{
 "cells": [
  {
   "cell_type": "markdown",
   "id": "fe2913ef",
   "metadata": {},
   "source": [
    "# Capstone Jupyter Notebook 1 - Cleaning Data"
   ]
  },
  {
   "cell_type": "code",
   "execution_count": 1,
   "id": "a56f4db2",
   "metadata": {},
   "outputs": [],
   "source": [
    "import pandas as pd"
   ]
  },
  {
   "cell_type": "markdown",
   "id": "8217559e",
   "metadata": {},
   "source": [
    "### Download preliminary clean dataset"
   ]
  },
  {
   "cell_type": "code",
   "execution_count": 2,
   "id": "553dd039",
   "metadata": {
    "collapsed": true
   },
   "outputs": [
    {
     "data": {
      "text/html": [
       "<div>\n",
       "<style scoped>\n",
       "    .dataframe tbody tr th:only-of-type {\n",
       "        vertical-align: middle;\n",
       "    }\n",
       "\n",
       "    .dataframe tbody tr th {\n",
       "        vertical-align: top;\n",
       "    }\n",
       "\n",
       "    .dataframe thead th {\n",
       "        text-align: right;\n",
       "    }\n",
       "</style>\n",
       "<table border=\"1\" class=\"dataframe\">\n",
       "  <thead>\n",
       "    <tr style=\"text-align: right;\">\n",
       "      <th></th>\n",
       "      <th>Track</th>\n",
       "      <th>Artist</th>\n",
       "      <th>Track_id</th>\n",
       "      <th>Url_spotify</th>\n",
       "      <th>Album</th>\n",
       "      <th>Album_type</th>\n",
       "      <th>Uri</th>\n",
       "      <th>Danceability</th>\n",
       "      <th>Energy</th>\n",
       "      <th>Key</th>\n",
       "      <th>...</th>\n",
       "      <th>Stream</th>\n",
       "      <th>Url_youtube</th>\n",
       "      <th>Title</th>\n",
       "      <th>Channel</th>\n",
       "      <th>Views</th>\n",
       "      <th>Likes</th>\n",
       "      <th>Comments</th>\n",
       "      <th>Description</th>\n",
       "      <th>Licensed</th>\n",
       "      <th>official_video</th>\n",
       "    </tr>\n",
       "    <tr>\n",
       "      <th>ID</th>\n",
       "      <th></th>\n",
       "      <th></th>\n",
       "      <th></th>\n",
       "      <th></th>\n",
       "      <th></th>\n",
       "      <th></th>\n",
       "      <th></th>\n",
       "      <th></th>\n",
       "      <th></th>\n",
       "      <th></th>\n",
       "      <th></th>\n",
       "      <th></th>\n",
       "      <th></th>\n",
       "      <th></th>\n",
       "      <th></th>\n",
       "      <th></th>\n",
       "      <th></th>\n",
       "      <th></th>\n",
       "      <th></th>\n",
       "      <th></th>\n",
       "      <th></th>\n",
       "    </tr>\n",
       "  </thead>\n",
       "  <tbody>\n",
       "    <tr>\n",
       "      <th>7593</th>\n",
       "      <td>Bernadette</td>\n",
       "      <td>Four Tops</td>\n",
       "      <td>0LVvnJs7eOuHIkWwjWHEWF</td>\n",
       "      <td>https://open.spotify.com/artist/7fIvjotigTGWqj...</td>\n",
       "      <td>Reach Out</td>\n",
       "      <td>album</td>\n",
       "      <td>spotify:track:0LVvnJs7eOuHIkWwjWHEWF</td>\n",
       "      <td>0.655</td>\n",
       "      <td>0.800</td>\n",
       "      <td>6</td>\n",
       "      <td>...</td>\n",
       "      <td>13472068.0</td>\n",
       "      <td>https://www.youtube.com/watch?v=GXQ3K-RGe60</td>\n",
       "      <td>Four Tops -  Bernadette (1967)</td>\n",
       "      <td>moondoggy</td>\n",
       "      <td>142967.0</td>\n",
       "      <td>2080.0</td>\n",
       "      <td>225.0</td>\n",
       "      <td>NaN</td>\n",
       "      <td>False</td>\n",
       "      <td>False</td>\n",
       "    </tr>\n",
       "    <tr>\n",
       "      <th>13567</th>\n",
       "      <td>Lonely Together (feat. Rita Ora)</td>\n",
       "      <td>Avicii</td>\n",
       "      <td>75NhhYjHO43mvZgYtnXgti</td>\n",
       "      <td>https://open.spotify.com/artist/1vCWHaC5f2uS3y...</td>\n",
       "      <td>AVĪCI (01)</td>\n",
       "      <td>single</td>\n",
       "      <td>spotify:track:75NhhYjHO43mvZgYtnXgti</td>\n",
       "      <td>0.655</td>\n",
       "      <td>0.666</td>\n",
       "      <td>5</td>\n",
       "      <td>...</td>\n",
       "      <td>619821708.0</td>\n",
       "      <td>https://www.youtube.com/watch?v=vQ3XgMKAgxc</td>\n",
       "      <td>Avicii - Lonely Together ft. Rita Ora</td>\n",
       "      <td>AviciiOfficialVEVO</td>\n",
       "      <td>182376320.0</td>\n",
       "      <td>1254217.0</td>\n",
       "      <td>25508.0</td>\n",
       "      <td>Listen to Avicii’s latest single “SOS” here: h...</td>\n",
       "      <td>True</td>\n",
       "      <td>True</td>\n",
       "    </tr>\n",
       "    <tr>\n",
       "      <th>18561</th>\n",
       "      <td>BERETTA</td>\n",
       "      <td>Capital Bra</td>\n",
       "      <td>7G30f2Sqsgrxet5IWYLDnR</td>\n",
       "      <td>https://open.spotify.com/artist/4WZGDpNwrC0vNQ...</td>\n",
       "      <td>DEUTSCHRAP BRANDNEU</td>\n",
       "      <td>album</td>\n",
       "      <td>spotify:track:7G30f2Sqsgrxet5IWYLDnR</td>\n",
       "      <td>0.694</td>\n",
       "      <td>0.640</td>\n",
       "      <td>2</td>\n",
       "      <td>...</td>\n",
       "      <td>18997861.0</td>\n",
       "      <td>https://www.youtube.com/watch?v=_rUamNliED4</td>\n",
       "      <td>FARID BANG &amp; CAPITAL BRA x SANNA - BERETTA [of...</td>\n",
       "      <td>Capital Bra</td>\n",
       "      <td>5163967.0</td>\n",
       "      <td>73840.0</td>\n",
       "      <td>4127.0</td>\n",
       "      <td>✖️► „DEUTSCHRAP BRANDNEU“ BOX [ alle Links ] v...</td>\n",
       "      <td>False</td>\n",
       "      <td>True</td>\n",
       "    </tr>\n",
       "    <tr>\n",
       "      <th>6980</th>\n",
       "      <td>Yanarım</td>\n",
       "      <td>Sertab Erener</td>\n",
       "      <td>69dbmLAqR6BTHOvMpZ7XK3</td>\n",
       "      <td>https://open.spotify.com/artist/4W31XN2JH8mC54...</td>\n",
       "      <td>Sertab Erener</td>\n",
       "      <td>album</td>\n",
       "      <td>spotify:track:69dbmLAqR6BTHOvMpZ7XK3</td>\n",
       "      <td>0.508</td>\n",
       "      <td>0.585</td>\n",
       "      <td>5</td>\n",
       "      <td>...</td>\n",
       "      <td>16686666.0</td>\n",
       "      <td>https://www.youtube.com/watch?v=qM63FjuY1ac</td>\n",
       "      <td>Sertab Erener - Yanarım</td>\n",
       "      <td>SertabErenerVEVO</td>\n",
       "      <td>12412100.0</td>\n",
       "      <td>62693.0</td>\n",
       "      <td>2004.0</td>\n",
       "      <td>Music video by Sertab Erener performing Yanarı...</td>\n",
       "      <td>True</td>\n",
       "      <td>True</td>\n",
       "    </tr>\n",
       "    <tr>\n",
       "      <th>18466</th>\n",
       "      <td>The Greatest</td>\n",
       "      <td>Louis Tomlinson</td>\n",
       "      <td>6BWX0o53hlmw85il52tBzz</td>\n",
       "      <td>https://open.spotify.com/artist/57WHJIHrjOE3iA...</td>\n",
       "      <td>Faith In The Future (Deluxe)</td>\n",
       "      <td>album</td>\n",
       "      <td>spotify:track:6BWX0o53hlmw85il52tBzz</td>\n",
       "      <td>0.531</td>\n",
       "      <td>0.726</td>\n",
       "      <td>11</td>\n",
       "      <td>...</td>\n",
       "      <td>6973794.0</td>\n",
       "      <td>https://www.youtube.com/watch?v=W5g5ezTtP40</td>\n",
       "      <td>Louis Tomlinson - The Greatest (Official Audio)</td>\n",
       "      <td>Louis Tomlinson</td>\n",
       "      <td>752854.0</td>\n",
       "      <td>47594.0</td>\n",
       "      <td>1404.0</td>\n",
       "      <td>The Greatest by Louis Tomlinson. \\nFaith In Th...</td>\n",
       "      <td>True</td>\n",
       "      <td>True</td>\n",
       "    </tr>\n",
       "    <tr>\n",
       "      <th>15966</th>\n",
       "      <td>Trance (with Travis Scott &amp; Young Thug)</td>\n",
       "      <td>Travis Scott</td>\n",
       "      <td>5wG3HvLhF6Y5KTGlK0IW3J</td>\n",
       "      <td>https://open.spotify.com/artist/0Y5tJX1MQlPlqi...</td>\n",
       "      <td>HEROES &amp; VILLAINS</td>\n",
       "      <td>album</td>\n",
       "      <td>spotify:track:5wG3HvLhF6Y5KTGlK0IW3J</td>\n",
       "      <td>0.571</td>\n",
       "      <td>0.549</td>\n",
       "      <td>1</td>\n",
       "      <td>...</td>\n",
       "      <td>46615880.0</td>\n",
       "      <td>https://www.youtube.com/watch?v=TxUdlC0057s</td>\n",
       "      <td>Metro Boomin, Travis Scott, Young Thug - Tranc...</td>\n",
       "      <td>MetroBoominVEVO</td>\n",
       "      <td>3348409.0</td>\n",
       "      <td>64132.0</td>\n",
       "      <td>1378.0</td>\n",
       "      <td>Download/stream ‘Heroes &amp; Villains’ by Metro B...</td>\n",
       "      <td>True</td>\n",
       "      <td>True</td>\n",
       "    </tr>\n",
       "    <tr>\n",
       "      <th>4399</th>\n",
       "      <td>No Hace Falta</td>\n",
       "      <td>Mijares</td>\n",
       "      <td>5DiHLU0npIbhSTZm8EGeuT</td>\n",
       "      <td>https://open.spotify.com/artist/3zhijRRIZX2B6G...</td>\n",
       "      <td>Que Nada Nos Separe</td>\n",
       "      <td>album</td>\n",
       "      <td>spotify:track:5DiHLU0npIbhSTZm8EGeuT</td>\n",
       "      <td>0.394</td>\n",
       "      <td>0.384</td>\n",
       "      <td>5</td>\n",
       "      <td>...</td>\n",
       "      <td>34853382.0</td>\n",
       "      <td>https://www.youtube.com/watch?v=JH6iuG-zMAE</td>\n",
       "      <td>Mijares - \"No Hace Falta\" (Video Oficial)</td>\n",
       "      <td>Zona Preferente</td>\n",
       "      <td>29886460.0</td>\n",
       "      <td>73067.0</td>\n",
       "      <td>2239.0</td>\n",
       "      <td>Sinfónico desde el Palacio de Bellas Artes\\n\\n...</td>\n",
       "      <td>True</td>\n",
       "      <td>True</td>\n",
       "    </tr>\n",
       "    <tr>\n",
       "      <th>7029</th>\n",
       "      <td>Get Up (I Feel Like Being A) Sex Machine</td>\n",
       "      <td>James Brown</td>\n",
       "      <td>2ivdsb1RcEJjIs5tuHkUC9</td>\n",
       "      <td>https://open.spotify.com/artist/7GaxyUddsPok8B...</td>\n",
       "      <td>Star Time</td>\n",
       "      <td>album</td>\n",
       "      <td>spotify:track:2ivdsb1RcEJjIs5tuHkUC9</td>\n",
       "      <td>0.838</td>\n",
       "      <td>0.616</td>\n",
       "      <td>10</td>\n",
       "      <td>...</td>\n",
       "      <td>NaN</td>\n",
       "      <td>https://www.youtube.com/watch?v=ZNaXb3uuekk</td>\n",
       "      <td>james brown sexy machine</td>\n",
       "      <td>CANAL DO DJ MANO BOY</td>\n",
       "      <td>3091598.0</td>\n",
       "      <td>49343.0</td>\n",
       "      <td>998.0</td>\n",
       "      <td>NaN</td>\n",
       "      <td>False</td>\n",
       "      <td>False</td>\n",
       "    </tr>\n",
       "    <tr>\n",
       "      <th>2720</th>\n",
       "      <td>Hello</td>\n",
       "      <td>Lionel Richie</td>\n",
       "      <td>0mHyWYXmmCB9iQyK18m3FQ</td>\n",
       "      <td>https://open.spotify.com/artist/3gMaNLQm7D9Mor...</td>\n",
       "      <td>Can't Slow Down</td>\n",
       "      <td>album</td>\n",
       "      <td>spotify:track:0mHyWYXmmCB9iQyK18m3FQ</td>\n",
       "      <td>0.487</td>\n",
       "      <td>0.246</td>\n",
       "      <td>9</td>\n",
       "      <td>...</td>\n",
       "      <td>212373009.0</td>\n",
       "      <td>https://www.youtube.com/watch?v=mHONNcZbwDY</td>\n",
       "      <td>Lionel Richie - Hello (Official Music Video)</td>\n",
       "      <td>LionelRichieVEVO</td>\n",
       "      <td>63901307.0</td>\n",
       "      <td>526077.0</td>\n",
       "      <td>19234.0</td>\n",
       "      <td>REMASTERED IN HD!\\nExplore the music of Lionel...</td>\n",
       "      <td>True</td>\n",
       "      <td>True</td>\n",
       "    </tr>\n",
       "    <tr>\n",
       "      <th>7200</th>\n",
       "      <td>Taxi Lunar - Ao Vivo</td>\n",
       "      <td>Alceu Valença</td>\n",
       "      <td>4mWAXPCxDDi5Z23PxTNlmQ</td>\n",
       "      <td>https://open.spotify.com/artist/559vxOLTzlAv0z...</td>\n",
       "      <td>O Grande Encontro 20 Anos: Alceu, Elba e Geral...</td>\n",
       "      <td>album</td>\n",
       "      <td>spotify:track:4mWAXPCxDDi5Z23PxTNlmQ</td>\n",
       "      <td>0.567</td>\n",
       "      <td>0.784</td>\n",
       "      <td>9</td>\n",
       "      <td>...</td>\n",
       "      <td>NaN</td>\n",
       "      <td>https://www.youtube.com/watch?v=4BVWHiQ7WfQ</td>\n",
       "      <td>Alceu Valença - Táxi lunar</td>\n",
       "      <td>Alceu Valença</td>\n",
       "      <td>105467.0</td>\n",
       "      <td>2612.0</td>\n",
       "      <td>70.0</td>\n",
       "      <td>INSCREVA-SE NO CANAL DE ALCEU VALENÇA NO YOUTU...</td>\n",
       "      <td>False</td>\n",
       "      <td>True</td>\n",
       "    </tr>\n",
       "  </tbody>\n",
       "</table>\n",
       "<p>10 rows × 28 columns</p>\n",
       "</div>"
      ],
      "text/plain": [
       "                                          Track           Artist  \\\n",
       "ID                                                                 \n",
       "7593                                 Bernadette        Four Tops   \n",
       "13567          Lonely Together (feat. Rita Ora)           Avicii   \n",
       "18561                                   BERETTA      Capital Bra   \n",
       "6980                                    Yanarım    Sertab Erener   \n",
       "18466                              The Greatest  Louis Tomlinson   \n",
       "15966   Trance (with Travis Scott & Young Thug)     Travis Scott   \n",
       "4399                              No Hace Falta          Mijares   \n",
       "7029   Get Up (I Feel Like Being A) Sex Machine      James Brown   \n",
       "2720                                      Hello    Lionel Richie   \n",
       "7200                       Taxi Lunar - Ao Vivo    Alceu Valença   \n",
       "\n",
       "                     Track_id  \\\n",
       "ID                              \n",
       "7593   0LVvnJs7eOuHIkWwjWHEWF   \n",
       "13567  75NhhYjHO43mvZgYtnXgti   \n",
       "18561  7G30f2Sqsgrxet5IWYLDnR   \n",
       "6980   69dbmLAqR6BTHOvMpZ7XK3   \n",
       "18466  6BWX0o53hlmw85il52tBzz   \n",
       "15966  5wG3HvLhF6Y5KTGlK0IW3J   \n",
       "4399   5DiHLU0npIbhSTZm8EGeuT   \n",
       "7029   2ivdsb1RcEJjIs5tuHkUC9   \n",
       "2720   0mHyWYXmmCB9iQyK18m3FQ   \n",
       "7200   4mWAXPCxDDi5Z23PxTNlmQ   \n",
       "\n",
       "                                             Url_spotify  \\\n",
       "ID                                                         \n",
       "7593   https://open.spotify.com/artist/7fIvjotigTGWqj...   \n",
       "13567  https://open.spotify.com/artist/1vCWHaC5f2uS3y...   \n",
       "18561  https://open.spotify.com/artist/4WZGDpNwrC0vNQ...   \n",
       "6980   https://open.spotify.com/artist/4W31XN2JH8mC54...   \n",
       "18466  https://open.spotify.com/artist/57WHJIHrjOE3iA...   \n",
       "15966  https://open.spotify.com/artist/0Y5tJX1MQlPlqi...   \n",
       "4399   https://open.spotify.com/artist/3zhijRRIZX2B6G...   \n",
       "7029   https://open.spotify.com/artist/7GaxyUddsPok8B...   \n",
       "2720   https://open.spotify.com/artist/3gMaNLQm7D9Mor...   \n",
       "7200   https://open.spotify.com/artist/559vxOLTzlAv0z...   \n",
       "\n",
       "                                                   Album Album_type  \\\n",
       "ID                                                                    \n",
       "7593                                           Reach Out      album   \n",
       "13567                                         AVĪCI (01)     single   \n",
       "18561                                DEUTSCHRAP BRANDNEU      album   \n",
       "6980                                       Sertab Erener      album   \n",
       "18466                       Faith In The Future (Deluxe)      album   \n",
       "15966                                  HEROES & VILLAINS      album   \n",
       "4399                                 Que Nada Nos Separe      album   \n",
       "7029                                           Star Time      album   \n",
       "2720                                     Can't Slow Down      album   \n",
       "7200   O Grande Encontro 20 Anos: Alceu, Elba e Geral...      album   \n",
       "\n",
       "                                        Uri  Danceability  Energy  Key  ...  \\\n",
       "ID                                                                      ...   \n",
       "7593   spotify:track:0LVvnJs7eOuHIkWwjWHEWF         0.655   0.800    6  ...   \n",
       "13567  spotify:track:75NhhYjHO43mvZgYtnXgti         0.655   0.666    5  ...   \n",
       "18561  spotify:track:7G30f2Sqsgrxet5IWYLDnR         0.694   0.640    2  ...   \n",
       "6980   spotify:track:69dbmLAqR6BTHOvMpZ7XK3         0.508   0.585    5  ...   \n",
       "18466  spotify:track:6BWX0o53hlmw85il52tBzz         0.531   0.726   11  ...   \n",
       "15966  spotify:track:5wG3HvLhF6Y5KTGlK0IW3J         0.571   0.549    1  ...   \n",
       "4399   spotify:track:5DiHLU0npIbhSTZm8EGeuT         0.394   0.384    5  ...   \n",
       "7029   spotify:track:2ivdsb1RcEJjIs5tuHkUC9         0.838   0.616   10  ...   \n",
       "2720   spotify:track:0mHyWYXmmCB9iQyK18m3FQ         0.487   0.246    9  ...   \n",
       "7200   spotify:track:4mWAXPCxDDi5Z23PxTNlmQ         0.567   0.784    9  ...   \n",
       "\n",
       "            Stream                                  Url_youtube  \\\n",
       "ID                                                                \n",
       "7593    13472068.0  https://www.youtube.com/watch?v=GXQ3K-RGe60   \n",
       "13567  619821708.0  https://www.youtube.com/watch?v=vQ3XgMKAgxc   \n",
       "18561   18997861.0  https://www.youtube.com/watch?v=_rUamNliED4   \n",
       "6980    16686666.0  https://www.youtube.com/watch?v=qM63FjuY1ac   \n",
       "18466    6973794.0  https://www.youtube.com/watch?v=W5g5ezTtP40   \n",
       "15966   46615880.0  https://www.youtube.com/watch?v=TxUdlC0057s   \n",
       "4399    34853382.0  https://www.youtube.com/watch?v=JH6iuG-zMAE   \n",
       "7029           NaN  https://www.youtube.com/watch?v=ZNaXb3uuekk   \n",
       "2720   212373009.0  https://www.youtube.com/watch?v=mHONNcZbwDY   \n",
       "7200           NaN  https://www.youtube.com/watch?v=4BVWHiQ7WfQ   \n",
       "\n",
       "                                                   Title  \\\n",
       "ID                                                         \n",
       "7593                      Four Tops -  Bernadette (1967)   \n",
       "13567              Avicii - Lonely Together ft. Rita Ora   \n",
       "18561  FARID BANG & CAPITAL BRA x SANNA - BERETTA [of...   \n",
       "6980                             Sertab Erener - Yanarım   \n",
       "18466    Louis Tomlinson - The Greatest (Official Audio)   \n",
       "15966  Metro Boomin, Travis Scott, Young Thug - Tranc...   \n",
       "4399           Mijares - \"No Hace Falta\" (Video Oficial)   \n",
       "7029                            james brown sexy machine   \n",
       "2720        Lionel Richie - Hello (Official Music Video)   \n",
       "7200                          Alceu Valença - Táxi lunar   \n",
       "\n",
       "                    Channel        Views      Likes  Comments  \\\n",
       "ID                                                              \n",
       "7593              moondoggy     142967.0     2080.0     225.0   \n",
       "13567    AviciiOfficialVEVO  182376320.0  1254217.0   25508.0   \n",
       "18561           Capital Bra    5163967.0    73840.0    4127.0   \n",
       "6980       SertabErenerVEVO   12412100.0    62693.0    2004.0   \n",
       "18466       Louis Tomlinson     752854.0    47594.0    1404.0   \n",
       "15966       MetroBoominVEVO    3348409.0    64132.0    1378.0   \n",
       "4399        Zona Preferente   29886460.0    73067.0    2239.0   \n",
       "7029   CANAL DO DJ MANO BOY    3091598.0    49343.0     998.0   \n",
       "2720       LionelRichieVEVO   63901307.0   526077.0   19234.0   \n",
       "7200          Alceu Valença     105467.0     2612.0      70.0   \n",
       "\n",
       "                                             Description  Licensed  \\\n",
       "ID                                                                   \n",
       "7593                                                 NaN     False   \n",
       "13567  Listen to Avicii’s latest single “SOS” here: h...      True   \n",
       "18561  ✖️► „DEUTSCHRAP BRANDNEU“ BOX [ alle Links ] v...     False   \n",
       "6980   Music video by Sertab Erener performing Yanarı...      True   \n",
       "18466  The Greatest by Louis Tomlinson. \\nFaith In Th...      True   \n",
       "15966  Download/stream ‘Heroes & Villains’ by Metro B...      True   \n",
       "4399   Sinfónico desde el Palacio de Bellas Artes\\n\\n...      True   \n",
       "7029                                                 NaN     False   \n",
       "2720   REMASTERED IN HD!\\nExplore the music of Lionel...      True   \n",
       "7200   INSCREVA-SE NO CANAL DE ALCEU VALENÇA NO YOUTU...     False   \n",
       "\n",
       "      official_video  \n",
       "ID                    \n",
       "7593           False  \n",
       "13567           True  \n",
       "18561           True  \n",
       "6980            True  \n",
       "18466           True  \n",
       "15966           True  \n",
       "4399            True  \n",
       "7029           False  \n",
       "2720            True  \n",
       "7200            True  \n",
       "\n",
       "[10 rows x 28 columns]"
      ]
     },
     "execution_count": 2,
     "metadata": {},
     "output_type": "execute_result"
    }
   ],
   "source": [
    "songs = pd.read_csv('./Spotify_Youtube_Clean.csv', index_col='ID')\n",
    "songs.sample(10)"
   ]
  },
  {
   "cell_type": "code",
   "execution_count": 3,
   "id": "bba8e097",
   "metadata": {
    "scrolled": true
   },
   "outputs": [
    {
     "name": "stdout",
     "output_type": "stream",
     "text": [
      "Initial dataset has 20716 rows and 28 columns.\n"
     ]
    }
   ],
   "source": [
    "print(f'Initial dataset has {songs.shape[0]} rows and {songs.shape[1]} columns.')"
   ]
  },
  {
   "cell_type": "code",
   "execution_count": 4,
   "id": "51a27f5f",
   "metadata": {
    "collapsed": true
   },
   "outputs": [
    {
     "data": {
      "text/plain": [
       "Track                 0\n",
       "Artist                0\n",
       "Track_id              0\n",
       "Url_spotify           0\n",
       "Album                 0\n",
       "Album_type            0\n",
       "Uri                   0\n",
       "Danceability          0\n",
       "Energy                0\n",
       "Key                   0\n",
       "Loudness              0\n",
       "Speechiness           0\n",
       "Acousticness          0\n",
       "Instrumentalness      0\n",
       "Liveness              0\n",
       "Valence               0\n",
       "Tempo                 0\n",
       "Duration_ms           0\n",
       "Stream              576\n",
       "Url_youtube         469\n",
       "Title               469\n",
       "Channel             469\n",
       "Views               469\n",
       "Likes               540\n",
       "Comments            568\n",
       "Description         875\n",
       "Licensed            469\n",
       "official_video      469\n",
       "dtype: int64"
      ]
     },
     "execution_count": 4,
     "metadata": {},
     "output_type": "execute_result"
    }
   ],
   "source": [
    "# Check for null values\n",
    "songs.isnull().sum()"
   ]
  },
  {
   "cell_type": "code",
   "execution_count": 5,
   "id": "d1c89fea",
   "metadata": {
    "collapsed": true
   },
   "outputs": [
    {
     "data": {
      "text/plain": [
       "Track                object\n",
       "Artist               object\n",
       "Track_id             object\n",
       "Url_spotify          object\n",
       "Album                object\n",
       "Album_type           object\n",
       "Uri                  object\n",
       "Danceability        float64\n",
       "Energy              float64\n",
       "Key                   int64\n",
       "Loudness            float64\n",
       "Speechiness         float64\n",
       "Acousticness        float64\n",
       "Instrumentalness    float64\n",
       "Liveness            float64\n",
       "Valence             float64\n",
       "Tempo               float64\n",
       "Duration_ms           int64\n",
       "Stream              float64\n",
       "Url_youtube          object\n",
       "Title                object\n",
       "Channel              object\n",
       "Views               float64\n",
       "Likes               float64\n",
       "Comments            float64\n",
       "Description          object\n",
       "Licensed             object\n",
       "official_video       object\n",
       "dtype: object"
      ]
     },
     "execution_count": 5,
     "metadata": {},
     "output_type": "execute_result"
    }
   ],
   "source": [
    "# Check data type of each column\n",
    "songs.dtypes"
   ]
  },
  {
   "cell_type": "markdown",
   "id": "8fd0daff",
   "metadata": {},
   "source": [
    "### Create dataset without rows with null (unknown) values for Stream"
   ]
  },
  {
   "cell_type": "code",
   "execution_count": 6,
   "id": "f76f3d0a",
   "metadata": {
    "scrolled": false
   },
   "outputs": [
    {
     "name": "stdout",
     "output_type": "stream",
     "text": [
      "20140 rows have known number of streams.\n"
     ]
    }
   ],
   "source": [
    "songs_with_streams = pd.DataFrame(songs.dropna(subset=['Stream'], inplace=False))\n",
    "print(f'{songs_with_streams.shape[0]} rows have known number of streams.')"
   ]
  },
  {
   "cell_type": "code",
   "execution_count": 7,
   "id": "838a053d",
   "metadata": {},
   "outputs": [
    {
     "name": "stdout",
     "output_type": "stream",
     "text": [
      "This new dataset has 18318 unique songs.\n"
     ]
    }
   ],
   "source": [
    "print(f'This new dataset has {songs_with_streams.Track_id.nunique()} unique songs.')"
   ]
  },
  {
   "cell_type": "markdown",
   "id": "c265b050",
   "metadata": {},
   "source": [
    "### Save this dataset with known values of Spotify streams to a CSV file"
   ]
  },
  {
   "cell_type": "code",
   "execution_count": 8,
   "id": "3b86a7bb",
   "metadata": {},
   "outputs": [],
   "source": [
    "songs_with_streams.to_csv('Spotify.csv')"
   ]
  },
  {
   "cell_type": "markdown",
   "id": "849a0ab1",
   "metadata": {},
   "source": [
    "### Remove duplicate songs in Excel\n",
    "### Download new dataset with unique songs"
   ]
  },
  {
   "cell_type": "code",
   "execution_count": 9,
   "id": "44b99a53",
   "metadata": {},
   "outputs": [],
   "source": [
    "songs_with_streams = pd.read_csv('./Spotify_Unique.csv', index_col='ID')"
   ]
  },
  {
   "cell_type": "code",
   "execution_count": 10,
   "id": "591de7fa",
   "metadata": {},
   "outputs": [
    {
     "name": "stdout",
     "output_type": "stream",
     "text": [
      "Cleaned dataset has 18318 rows and 18318 uniques songs.\n"
     ]
    }
   ],
   "source": [
    "print(f'Cleaned dataset has {songs_with_streams.shape[0]} rows and {songs_with_streams.Track_id.nunique()} uniques songs.')"
   ]
  },
  {
   "cell_type": "code",
   "execution_count": 11,
   "id": "9668be47",
   "metadata": {
    "collapsed": true
   },
   "outputs": [
    {
     "data": {
      "text/plain": [
       "Track                object\n",
       "Track_id             object\n",
       "Album                object\n",
       "Album_type           object\n",
       "Uri                  object\n",
       "Danceability        float64\n",
       "Energy              float64\n",
       "Key                   int64\n",
       "Loudness            float64\n",
       "Speechiness         float64\n",
       "Acousticness        float64\n",
       "Instrumentalness    float64\n",
       "Liveness            float64\n",
       "Valence             float64\n",
       "Tempo               float64\n",
       "Duration_ms           int64\n",
       "Stream                int64\n",
       "Url_youtube          object\n",
       "Title                object\n",
       "Channel              object\n",
       "Views               float64\n",
       "Likes               float64\n",
       "Comments            float64\n",
       "Description          object\n",
       "Licensed             object\n",
       "official_video       object\n",
       "dtype: object"
      ]
     },
     "execution_count": 11,
     "metadata": {},
     "output_type": "execute_result"
    }
   ],
   "source": [
    "# Check data type of each column\n",
    "songs_with_streams.dtypes"
   ]
  },
  {
   "cell_type": "code",
   "execution_count": 12,
   "id": "566cd948",
   "metadata": {
    "collapsed": true
   },
   "outputs": [
    {
     "data": {
      "text/plain": [
       "Track                 0\n",
       "Track_id              0\n",
       "Album                 0\n",
       "Album_type            0\n",
       "Uri                   0\n",
       "Danceability          0\n",
       "Energy                0\n",
       "Key                   0\n",
       "Loudness              0\n",
       "Speechiness           0\n",
       "Acousticness          0\n",
       "Instrumentalness      0\n",
       "Liveness              0\n",
       "Valence               0\n",
       "Tempo                 0\n",
       "Duration_ms           0\n",
       "Stream                0\n",
       "Url_youtube         383\n",
       "Title               383\n",
       "Channel             383\n",
       "Views               383\n",
       "Likes               449\n",
       "Comments            476\n",
       "Description         754\n",
       "Licensed            383\n",
       "official_video      383\n",
       "dtype: int64"
      ]
     },
     "execution_count": 12,
     "metadata": {},
     "output_type": "execute_result"
    }
   ],
   "source": [
    "# Check for null values\n",
    "songs_with_streams.isnull().sum()"
   ]
  },
  {
   "cell_type": "code",
   "execution_count": 13,
   "id": "31927dac",
   "metadata": {},
   "outputs": [
    {
     "data": {
      "text/plain": [
       "(6574, 3386520288)"
      ]
     },
     "execution_count": 13,
     "metadata": {},
     "output_type": "execute_result"
    }
   ],
   "source": [
    "# Make sure Stream column has correct values\n",
    "songs_with_streams.Stream.min(), songs_with_streams.Stream.max()"
   ]
  },
  {
   "cell_type": "code",
   "execution_count": 14,
   "id": "1e6cb2cd",
   "metadata": {
    "collapsed": true
   },
   "outputs": [
    {
     "data": {
      "text/plain": [
       "Track                              She's My Collar (feat. Kali Uchis)\n",
       "Track_id                                       3lIxtCaROdRDuTnNBDm3n2\n",
       "Album                                                 Humanz (Deluxe)\n",
       "Album_type                                                      album\n",
       "Uri                              spotify:track:3lIxtCaROdRDuTnNBDm3n2\n",
       "Danceability                                                    0.726\n",
       "Energy                                                          0.815\n",
       "Key                                                                11\n",
       "Loudness                                                       -5.886\n",
       "Speechiness                                                    0.0313\n",
       "Acousticness                                                  0.00799\n",
       "Instrumentalness                                                0.081\n",
       "Liveness                                                        0.112\n",
       "Valence                                                         0.462\n",
       "Tempo                                                         140.158\n",
       "Duration_ms                                                    209560\n",
       "Stream                                                      159605929\n",
       "Url_youtube               https://www.youtube.com/watch?v=f8NwLXYIHS4\n",
       "Title                                 Gorillaz - She's My Collar [HQ]\n",
       "Channel                                                    SalvaMuñox\n",
       "Views                                                       1010982.0\n",
       "Likes                                                         17675.0\n",
       "Comments                                                        260.0\n",
       "Description         𝐁̲𝐎̲𝐍̲𝐔̲𝐒̲:̲ Hu̳ma̳n̳z [̲̠̲𝐃̲̠̲𝐄̲̠̲𝐅̲̠̲𝐈̲̠̲𝐍̲̠...\n",
       "Licensed                                                        False\n",
       "official_video                                                  False\n",
       "Name: 7, dtype: object"
      ]
     },
     "execution_count": 14,
     "metadata": {},
     "output_type": "execute_result"
    }
   ],
   "source": [
    "# Check that nontraditional characters appear correctly in Python\n",
    "songs_with_streams.loc[7]"
   ]
  },
  {
   "cell_type": "code",
   "execution_count": 15,
   "id": "fad21383",
   "metadata": {
    "collapsed": true
   },
   "outputs": [
    {
     "data": {
      "text/plain": [
       "Track                                                      Lux Æterna\n",
       "Track_id                                       3pwmJJRlr8nXNN9PFD18np\n",
       "Album                                                      Lux Æterna\n",
       "Album_type                                                     single\n",
       "Uri                              spotify:track:3pwmJJRlr8nXNN9PFD18np\n",
       "Danceability                                                    0.386\n",
       "Energy                                                          0.996\n",
       "Key                                                                11\n",
       "Loudness                                                        -2.96\n",
       "Speechiness                                                    0.0754\n",
       "Acousticness                                                 0.000012\n",
       "Instrumentalness                                             0.000836\n",
       "Liveness                                                        0.116\n",
       "Valence                                                         0.188\n",
       "Tempo                                                         130.573\n",
       "Duration_ms                                                    205680\n",
       "Stream                                                       20061385\n",
       "Url_youtube               https://www.youtube.com/watch?v=_u-7rWKnVVo\n",
       "Title                    Metallica: Lux Æterna (Official Music Video)\n",
       "Channel                                                     Metallica\n",
       "Views                                                      14937918.0\n",
       "Likes                                                        473751.0\n",
       "Comments                                                      46230.0\n",
       "Description         Metallica's official music video for “Lux Æter...\n",
       "Licensed                                                         True\n",
       "official_video                                                   True\n",
       "Name: 37, dtype: object"
      ]
     },
     "execution_count": 15,
     "metadata": {},
     "output_type": "execute_result"
    }
   ],
   "source": [
    "songs_with_streams.loc[37]"
   ]
  },
  {
   "cell_type": "markdown",
   "id": "f0a1b84c",
   "metadata": {},
   "source": [
    "### Create dataset without rows without YouTube videos"
   ]
  },
  {
   "cell_type": "code",
   "execution_count": 16,
   "id": "c8a8ceb4",
   "metadata": {},
   "outputs": [
    {
     "name": "stdout",
     "output_type": "stream",
     "text": [
      "20247 rows have YouTube videos.\n"
     ]
    }
   ],
   "source": [
    "songs_with_videos = pd.DataFrame(songs.dropna(subset=['Url_youtube'], inplace=False))\n",
    "print(f'{songs_with_videos.shape[0]} rows have YouTube videos.')"
   ]
  },
  {
   "cell_type": "code",
   "execution_count": 17,
   "id": "c8e81b27",
   "metadata": {},
   "outputs": [
    {
     "name": "stdout",
     "output_type": "stream",
     "text": [
      "This new dataset has 18318 unique songs.\n"
     ]
    }
   ],
   "source": [
    "print(f'This new dataset has {songs_with_streams.Track_id.nunique()} unique songs.')"
   ]
  },
  {
   "cell_type": "markdown",
   "id": "86dc2f0a",
   "metadata": {},
   "source": [
    "### Save this dataset of songs with YouTube videos to a CSV file"
   ]
  },
  {
   "cell_type": "code",
   "execution_count": 18,
   "id": "5535e1d7",
   "metadata": {},
   "outputs": [],
   "source": [
    "songs_with_videos.to_csv('Youtube.csv')"
   ]
  },
  {
   "cell_type": "markdown",
   "id": "be32e45a",
   "metadata": {},
   "source": [
    "### Remove duplicate songs in Excel\n",
    "### Download new dataset with unique songs"
   ]
  },
  {
   "cell_type": "code",
   "execution_count": 19,
   "id": "323716fb",
   "metadata": {},
   "outputs": [],
   "source": [
    "songs_with_videos = pd.read_csv('./Youtube_Unique.csv', index_col='ID')"
   ]
  },
  {
   "cell_type": "code",
   "execution_count": 20,
   "id": "18c2c0db",
   "metadata": {},
   "outputs": [
    {
     "name": "stdout",
     "output_type": "stream",
     "text": [
      "Cleaned dataset has 18488 rows and 18488 uniques songs.\n"
     ]
    }
   ],
   "source": [
    "print(f'Cleaned dataset has {songs_with_videos.shape[0]} rows and {songs_with_videos.Track_id.nunique()} uniques songs.')"
   ]
  },
  {
   "cell_type": "code",
   "execution_count": 21,
   "id": "4a3603cd",
   "metadata": {
    "collapsed": true
   },
   "outputs": [
    {
     "data": {
      "text/plain": [
       "Track                object\n",
       "Track_id             object\n",
       "Album                object\n",
       "Album_type           object\n",
       "Uri                  object\n",
       "Danceability        float64\n",
       "Energy              float64\n",
       "Key                   int64\n",
       "Loudness            float64\n",
       "Speechiness         float64\n",
       "Acousticness        float64\n",
       "Instrumentalness    float64\n",
       "Liveness            float64\n",
       "Valence             float64\n",
       "Tempo               float64\n",
       "Duration_ms           int64\n",
       "Stream              float64\n",
       "Url_youtube          object\n",
       "Title                object\n",
       "Channel              object\n",
       "Views                 int64\n",
       "Likes               float64\n",
       "Comments            float64\n",
       "Description          object\n",
       "Licensed               bool\n",
       "official_video         bool\n",
       "dtype: object"
      ]
     },
     "execution_count": 21,
     "metadata": {},
     "output_type": "execute_result"
    }
   ],
   "source": [
    "# Check data type of each column\n",
    "songs_with_videos.dtypes"
   ]
  },
  {
   "cell_type": "code",
   "execution_count": 22,
   "id": "d7536bf5",
   "metadata": {
    "collapsed": true
   },
   "outputs": [
    {
     "data": {
      "text/plain": [
       "Track                 0\n",
       "Track_id              0\n",
       "Album                 0\n",
       "Album_type            0\n",
       "Uri                   0\n",
       "Danceability          0\n",
       "Energy                0\n",
       "Key                   0\n",
       "Loudness              0\n",
       "Speechiness           0\n",
       "Acousticness          0\n",
       "Instrumentalness      0\n",
       "Liveness              0\n",
       "Valence               0\n",
       "Tempo                 0\n",
       "Duration_ms           0\n",
       "Stream              530\n",
       "Url_youtube           0\n",
       "Title                 0\n",
       "Channel               0\n",
       "Views                 0\n",
       "Likes                69\n",
       "Comments             96\n",
       "Description         386\n",
       "Licensed              0\n",
       "official_video        0\n",
       "dtype: int64"
      ]
     },
     "execution_count": 22,
     "metadata": {},
     "output_type": "execute_result"
    }
   ],
   "source": [
    "# Check for null values\n",
    "songs_with_videos.isnull().sum()"
   ]
  },
  {
   "cell_type": "code",
   "execution_count": 23,
   "id": "817de688",
   "metadata": {},
   "outputs": [
    {
     "data": {
      "text/plain": [
       "(0, 8079646911)"
      ]
     },
     "execution_count": 23,
     "metadata": {},
     "output_type": "execute_result"
    }
   ],
   "source": [
    "# Make sure Views column has correct values\n",
    "songs_with_videos.Views.min(), songs_with_videos.Views.max()"
   ]
  },
  {
   "cell_type": "code",
   "execution_count": 24,
   "id": "80dd957f",
   "metadata": {
    "collapsed": true
   },
   "outputs": [
    {
     "data": {
      "text/plain": [
       "Track                              She's My Collar (feat. Kali Uchis)\n",
       "Track_id                                       3lIxtCaROdRDuTnNBDm3n2\n",
       "Album                                                 Humanz (Deluxe)\n",
       "Album_type                                                      album\n",
       "Uri                              spotify:track:3lIxtCaROdRDuTnNBDm3n2\n",
       "Danceability                                                    0.726\n",
       "Energy                                                          0.815\n",
       "Key                                                                11\n",
       "Loudness                                                       -5.886\n",
       "Speechiness                                                    0.0313\n",
       "Acousticness                                                  0.00799\n",
       "Instrumentalness                                                0.081\n",
       "Liveness                                                        0.112\n",
       "Valence                                                         0.462\n",
       "Tempo                                                         140.158\n",
       "Duration_ms                                                    209560\n",
       "Stream                                                    159605929.0\n",
       "Url_youtube               https://www.youtube.com/watch?v=f8NwLXYIHS4\n",
       "Title                                 Gorillaz - She's My Collar [HQ]\n",
       "Channel                                                    SalvaMuñox\n",
       "Views                                                         1010982\n",
       "Likes                                                         17675.0\n",
       "Comments                                                        260.0\n",
       "Description         𝐁̲𝐎̲𝐍̲𝐔̲𝐒̲:̲ Hu̳ma̳n̳z [̲̠̲𝐃̲̠̲𝐄̲̠̲𝐅̲̠̲𝐈̲̠̲𝐍̲̠...\n",
       "Licensed                                                        False\n",
       "official_video                                                  False\n",
       "Name: 7, dtype: object"
      ]
     },
     "execution_count": 24,
     "metadata": {},
     "output_type": "execute_result"
    }
   ],
   "source": [
    "# Check that nontraditional characters appear correctly in Python\n",
    "songs_with_videos.loc[7]"
   ]
  },
  {
   "cell_type": "code",
   "execution_count": 25,
   "id": "36f56567",
   "metadata": {
    "collapsed": true
   },
   "outputs": [
    {
     "data": {
      "text/plain": [
       "Track                                                      Lux Æterna\n",
       "Track_id                                       3pwmJJRlr8nXNN9PFD18np\n",
       "Album                                                      Lux Æterna\n",
       "Album_type                                                     single\n",
       "Uri                              spotify:track:3pwmJJRlr8nXNN9PFD18np\n",
       "Danceability                                                    0.386\n",
       "Energy                                                          0.996\n",
       "Key                                                                11\n",
       "Loudness                                                        -2.96\n",
       "Speechiness                                                    0.0754\n",
       "Acousticness                                                 0.000012\n",
       "Instrumentalness                                             0.000836\n",
       "Liveness                                                        0.116\n",
       "Valence                                                         0.188\n",
       "Tempo                                                         130.573\n",
       "Duration_ms                                                    205680\n",
       "Stream                                                     20061385.0\n",
       "Url_youtube               https://www.youtube.com/watch?v=_u-7rWKnVVo\n",
       "Title                    Metallica: Lux Æterna (Official Music Video)\n",
       "Channel                                                     Metallica\n",
       "Views                                                        14937918\n",
       "Likes                                                        473751.0\n",
       "Comments                                                      46230.0\n",
       "Description         Metallica's official music video for “Lux Æter...\n",
       "Licensed                                                         True\n",
       "official_video                                                   True\n",
       "Name: 37, dtype: object"
      ]
     },
     "execution_count": 25,
     "metadata": {},
     "output_type": "execute_result"
    }
   ],
   "source": [
    "songs_with_videos.loc[37]"
   ]
  },
  {
   "cell_type": "markdown",
   "id": "45ff9ce1",
   "metadata": {},
   "source": [
    "### Download preliminary clean secondary dataset"
   ]
  },
  {
   "cell_type": "code",
   "execution_count": 26,
   "id": "2b3d88f4",
   "metadata": {
    "collapsed": true
   },
   "outputs": [
    {
     "name": "stderr",
     "output_type": "stream",
     "text": [
      "C:\\Users\\Andrew Vieira\\AppData\\Local\\Temp\\ipykernel_8952\\19069356.py:1: DtypeWarning: Columns (14,15,16,17,18,19,20,21,22,23,24,25,26) have mixed types. Specify dtype option on import or set low_memory=False.\n",
      "  songs2 = pd.read_csv('./Final_database_Clean.csv')\n"
     ]
    },
    {
     "data": {
      "text/html": [
       "<div>\n",
       "<style scoped>\n",
       "    .dataframe tbody tr th:only-of-type {\n",
       "        vertical-align: middle;\n",
       "    }\n",
       "\n",
       "    .dataframe tbody tr th {\n",
       "        vertical-align: top;\n",
       "    }\n",
       "\n",
       "    .dataframe thead th {\n",
       "        text-align: right;\n",
       "    }\n",
       "</style>\n",
       "<table border=\"1\" class=\"dataframe\">\n",
       "  <thead>\n",
       "    <tr style=\"text-align: right;\">\n",
       "      <th></th>\n",
       "      <th>Track_id</th>\n",
       "      <th>Country</th>\n",
       "      <th>Uri</th>\n",
       "      <th>Popularity</th>\n",
       "      <th>Title</th>\n",
       "      <th>Artist</th>\n",
       "      <th>Album/Single</th>\n",
       "      <th>Genre</th>\n",
       "      <th>Artist_followers</th>\n",
       "      <th>Explicit</th>\n",
       "      <th>...</th>\n",
       "      <th>Sweden</th>\n",
       "      <th>Switzerland</th>\n",
       "      <th>Taiwan</th>\n",
       "      <th>Turkey</th>\n",
       "      <th>UK</th>\n",
       "      <th>USA</th>\n",
       "      <th>Popu_max</th>\n",
       "      <th>Top10_dummy</th>\n",
       "      <th>Top50_dummy</th>\n",
       "      <th>Cluster</th>\n",
       "    </tr>\n",
       "  </thead>\n",
       "  <tbody>\n",
       "    <tr>\n",
       "      <th>67902</th>\n",
       "      <td>021lWIHJrURZrmvYQ1xcM8</td>\n",
       "      <td>Belgium</td>\n",
       "      <td>https://open.spotify.com/track/021lWIHJrURZrmv...</td>\n",
       "      <td>45.60</td>\n",
       "      <td>all bad</td>\n",
       "      <td>Future - Lil Uzi Vert</td>\n",
       "      <td>album</td>\n",
       "      <td>atl hip hop</td>\n",
       "      <td>9442830.0</td>\n",
       "      <td>True</td>\n",
       "      <td>...</td>\n",
       "      <td>0</td>\n",
       "      <td>0</td>\n",
       "      <td>0</td>\n",
       "      <td>0</td>\n",
       "      <td>0</td>\n",
       "      <td>0</td>\n",
       "      <td>144</td>\n",
       "      <td>0</td>\n",
       "      <td>0</td>\n",
       "      <td>english speaking and nordic</td>\n",
       "    </tr>\n",
       "    <tr>\n",
       "      <th>83632</th>\n",
       "      <td>1AI7UPw3fgwAFkvAlZWhE0</td>\n",
       "      <td>Finland</td>\n",
       "      <td>https://open.spotify.com/track/1AI7UPw3fgwAFkv...</td>\n",
       "      <td>3552.20</td>\n",
       "      <td>take me back to london</td>\n",
       "      <td>Ed Sheeran - Stormzy</td>\n",
       "      <td>album</td>\n",
       "      <td>pop</td>\n",
       "      <td>71783101.0</td>\n",
       "      <td>False</td>\n",
       "      <td>...</td>\n",
       "      <td>0</td>\n",
       "      <td>0</td>\n",
       "      <td>0</td>\n",
       "      <td>0</td>\n",
       "      <td>0</td>\n",
       "      <td>0</td>\n",
       "      <td>22</td>\n",
       "      <td>0</td>\n",
       "      <td>1</td>\n",
       "      <td>english speaking and nordic</td>\n",
       "    </tr>\n",
       "    <tr>\n",
       "      <th>21570</th>\n",
       "      <td>69vlMrzHwATKzupwNcUPyK</td>\n",
       "      <td>Ecuador</td>\n",
       "      <td>https://open.spotify.com/track/69vlMrzHwATKzup...</td>\n",
       "      <td>38214.40</td>\n",
       "      <td>la santa</td>\n",
       "      <td>Bad Bunny - Daddy Yankee</td>\n",
       "      <td>album</td>\n",
       "      <td>latin</td>\n",
       "      <td>26265604.0</td>\n",
       "      <td>True</td>\n",
       "      <td>...</td>\n",
       "      <td>0</td>\n",
       "      <td>0</td>\n",
       "      <td>0</td>\n",
       "      <td>0</td>\n",
       "      <td>0</td>\n",
       "      <td>0</td>\n",
       "      <td>4</td>\n",
       "      <td>1</td>\n",
       "      <td>1</td>\n",
       "      <td>spanish speaking</td>\n",
       "    </tr>\n",
       "    <tr>\n",
       "      <th>32934</th>\n",
       "      <td>6mzTuMlbCgEtoCitsszlqP</td>\n",
       "      <td>Sweden</td>\n",
       "      <td>https://open.spotify.com/track/6mzTuMlbCgEtoCi...</td>\n",
       "      <td>7186.35</td>\n",
       "      <td>what would i change it to</td>\n",
       "      <td>Avicii - AlunaGeorge</td>\n",
       "      <td>single</td>\n",
       "      <td>big room</td>\n",
       "      <td>18439913.0</td>\n",
       "      <td>False</td>\n",
       "      <td>...</td>\n",
       "      <td>1</td>\n",
       "      <td>0</td>\n",
       "      <td>0</td>\n",
       "      <td>0</td>\n",
       "      <td>0</td>\n",
       "      <td>0</td>\n",
       "      <td>10</td>\n",
       "      <td>1</td>\n",
       "      <td>1</td>\n",
       "      <td>english speaking and nordic</td>\n",
       "    </tr>\n",
       "    <tr>\n",
       "      <th>99011</th>\n",
       "      <td>4ggiDYAkJ7Yk8d5xOr7Xjo</td>\n",
       "      <td>Argentina</td>\n",
       "      <td>https://open.spotify.com/track/4ggiDYAkJ7Yk8d5...</td>\n",
       "      <td>837.60</td>\n",
       "      <td>me niego</td>\n",
       "      <td>Reik - Ozuna - Wisin</td>\n",
       "      <td>album</td>\n",
       "      <td>latin</td>\n",
       "      <td>4894647.0</td>\n",
       "      <td>False</td>\n",
       "      <td>...</td>\n",
       "      <td>0</td>\n",
       "      <td>0</td>\n",
       "      <td>0</td>\n",
       "      <td>0</td>\n",
       "      <td>0</td>\n",
       "      <td>0</td>\n",
       "      <td>131</td>\n",
       "      <td>0</td>\n",
       "      <td>0</td>\n",
       "      <td>spanish speaking</td>\n",
       "    </tr>\n",
       "    <tr>\n",
       "      <th>15923</th>\n",
       "      <td>0y8mJFmm4ogCHnfe0oTuT6</td>\n",
       "      <td>Germany</td>\n",
       "      <td>https://open.spotify.com/track/0y8mJFmm4ogCHnf...</td>\n",
       "      <td>12071.00</td>\n",
       "      <td>fuckst mich nur ab</td>\n",
       "      <td>Bonez MC</td>\n",
       "      <td>album</td>\n",
       "      <td>german hip hop</td>\n",
       "      <td>1446155.0</td>\n",
       "      <td>True</td>\n",
       "      <td>...</td>\n",
       "      <td>0</td>\n",
       "      <td>0</td>\n",
       "      <td>0</td>\n",
       "      <td>0</td>\n",
       "      <td>0</td>\n",
       "      <td>0</td>\n",
       "      <td>2</td>\n",
       "      <td>1</td>\n",
       "      <td>1</td>\n",
       "      <td>english speaking and nordic</td>\n",
       "    </tr>\n",
       "    <tr>\n",
       "      <th>28419</th>\n",
       "      <td>2u8AXJyk8pICzj2wyPBL0b</td>\n",
       "      <td>Germany</td>\n",
       "      <td>https://open.spotify.com/track/2u8AXJyk8pICzj2...</td>\n",
       "      <td>51761.85</td>\n",
       "      <td>2002</td>\n",
       "      <td>Sido - Apache 207</td>\n",
       "      <td>album</td>\n",
       "      <td>german hip hop</td>\n",
       "      <td>1310925.0</td>\n",
       "      <td>False</td>\n",
       "      <td>...</td>\n",
       "      <td>0</td>\n",
       "      <td>0</td>\n",
       "      <td>0</td>\n",
       "      <td>0</td>\n",
       "      <td>0</td>\n",
       "      <td>0</td>\n",
       "      <td>5</td>\n",
       "      <td>1</td>\n",
       "      <td>1</td>\n",
       "      <td>english speaking and nordic</td>\n",
       "    </tr>\n",
       "    <tr>\n",
       "      <th>74067</th>\n",
       "      <td>4tNXntkAzQ5A2dfYRYGIIQ</td>\n",
       "      <td>Denmark</td>\n",
       "      <td>https://open.spotify.com/track/4tNXntkAzQ5A2df...</td>\n",
       "      <td>13702.65</td>\n",
       "      <td>easier</td>\n",
       "      <td>5 Seconds of Summer</td>\n",
       "      <td>single</td>\n",
       "      <td>boy band</td>\n",
       "      <td>6734577.0</td>\n",
       "      <td>False</td>\n",
       "      <td>...</td>\n",
       "      <td>0</td>\n",
       "      <td>0</td>\n",
       "      <td>0</td>\n",
       "      <td>0</td>\n",
       "      <td>0</td>\n",
       "      <td>0</td>\n",
       "      <td>20</td>\n",
       "      <td>0</td>\n",
       "      <td>1</td>\n",
       "      <td>english speaking and nordic</td>\n",
       "    </tr>\n",
       "    <tr>\n",
       "      <th>97241</th>\n",
       "      <td>0qPbQWcqNDVrReSSvMoJxk</td>\n",
       "      <td>Peru</td>\n",
       "      <td>https://open.spotify.com/track/0qPbQWcqNDVrReS...</td>\n",
       "      <td>452.35</td>\n",
       "      <td>c.r.o: bzrp music sessions, vol. 29</td>\n",
       "      <td>Bizarrap - C.R.O</td>\n",
       "      <td>single</td>\n",
       "      <td>argentine hip hop</td>\n",
       "      <td>1515758.0</td>\n",
       "      <td>False</td>\n",
       "      <td>...</td>\n",
       "      <td>0</td>\n",
       "      <td>0</td>\n",
       "      <td>0</td>\n",
       "      <td>0</td>\n",
       "      <td>0</td>\n",
       "      <td>0</td>\n",
       "      <td>98</td>\n",
       "      <td>0</td>\n",
       "      <td>0</td>\n",
       "      <td>spanish speaking</td>\n",
       "    </tr>\n",
       "    <tr>\n",
       "      <th>78635</th>\n",
       "      <td>2FY7b99s15jUprqC0M5NCT</td>\n",
       "      <td>New Zealand</td>\n",
       "      <td>https://open.spotify.com/track/2FY7b99s15jUprq...</td>\n",
       "      <td>7393.25</td>\n",
       "      <td>natural</td>\n",
       "      <td>Imagine Dragons</td>\n",
       "      <td>album</td>\n",
       "      <td>modern rock</td>\n",
       "      <td>30723081.0</td>\n",
       "      <td>False</td>\n",
       "      <td>...</td>\n",
       "      <td>0</td>\n",
       "      <td>0</td>\n",
       "      <td>0</td>\n",
       "      <td>0</td>\n",
       "      <td>0</td>\n",
       "      <td>0</td>\n",
       "      <td>35</td>\n",
       "      <td>0</td>\n",
       "      <td>1</td>\n",
       "      <td>english speaking and nordic</td>\n",
       "    </tr>\n",
       "  </tbody>\n",
       "</table>\n",
       "<p>10 rows × 152 columns</p>\n",
       "</div>"
      ],
      "text/plain": [
       "                     Track_id      Country  \\\n",
       "67902  021lWIHJrURZrmvYQ1xcM8      Belgium   \n",
       "83632  1AI7UPw3fgwAFkvAlZWhE0      Finland   \n",
       "21570  69vlMrzHwATKzupwNcUPyK      Ecuador   \n",
       "32934  6mzTuMlbCgEtoCitsszlqP       Sweden   \n",
       "99011  4ggiDYAkJ7Yk8d5xOr7Xjo    Argentina   \n",
       "15923  0y8mJFmm4ogCHnfe0oTuT6      Germany   \n",
       "28419  2u8AXJyk8pICzj2wyPBL0b      Germany   \n",
       "74067  4tNXntkAzQ5A2dfYRYGIIQ      Denmark   \n",
       "97241  0qPbQWcqNDVrReSSvMoJxk         Peru   \n",
       "78635  2FY7b99s15jUprqC0M5NCT  New Zealand   \n",
       "\n",
       "                                                     Uri  Popularity  \\\n",
       "67902  https://open.spotify.com/track/021lWIHJrURZrmv...       45.60   \n",
       "83632  https://open.spotify.com/track/1AI7UPw3fgwAFkv...     3552.20   \n",
       "21570  https://open.spotify.com/track/69vlMrzHwATKzup...    38214.40   \n",
       "32934  https://open.spotify.com/track/6mzTuMlbCgEtoCi...     7186.35   \n",
       "99011  https://open.spotify.com/track/4ggiDYAkJ7Yk8d5...      837.60   \n",
       "15923  https://open.spotify.com/track/0y8mJFmm4ogCHnf...    12071.00   \n",
       "28419  https://open.spotify.com/track/2u8AXJyk8pICzj2...    51761.85   \n",
       "74067  https://open.spotify.com/track/4tNXntkAzQ5A2df...    13702.65   \n",
       "97241  https://open.spotify.com/track/0qPbQWcqNDVrReS...      452.35   \n",
       "78635  https://open.spotify.com/track/2FY7b99s15jUprq...     7393.25   \n",
       "\n",
       "                                     Title                    Artist  \\\n",
       "67902                              all bad     Future - Lil Uzi Vert   \n",
       "83632               take me back to london      Ed Sheeran - Stormzy   \n",
       "21570                             la santa  Bad Bunny - Daddy Yankee   \n",
       "32934            what would i change it to      Avicii - AlunaGeorge   \n",
       "99011                             me niego      Reik - Ozuna - Wisin   \n",
       "15923                   fuckst mich nur ab                  Bonez MC   \n",
       "28419                                 2002         Sido - Apache 207   \n",
       "74067                               easier       5 Seconds of Summer   \n",
       "97241  c.r.o: bzrp music sessions, vol. 29          Bizarrap - C.R.O   \n",
       "78635                              natural           Imagine Dragons   \n",
       "\n",
       "      Album/Single              Genre  Artist_followers  Explicit  ... Sweden  \\\n",
       "67902        album        atl hip hop         9442830.0      True  ...      0   \n",
       "83632        album                pop        71783101.0     False  ...      0   \n",
       "21570        album              latin        26265604.0      True  ...      0   \n",
       "32934       single           big room        18439913.0     False  ...      1   \n",
       "99011        album              latin         4894647.0     False  ...      0   \n",
       "15923        album     german hip hop         1446155.0      True  ...      0   \n",
       "28419        album     german hip hop         1310925.0     False  ...      0   \n",
       "74067       single           boy band         6734577.0     False  ...      0   \n",
       "97241       single  argentine hip hop         1515758.0     False  ...      0   \n",
       "78635        album        modern rock        30723081.0     False  ...      0   \n",
       "\n",
       "      Switzerland  Taiwan  Turkey UK USA Popu_max Top10_dummy Top50_dummy  \\\n",
       "67902           0       0       0  0   0      144           0           0   \n",
       "83632           0       0       0  0   0       22           0           1   \n",
       "21570           0       0       0  0   0        4           1           1   \n",
       "32934           0       0       0  0   0       10           1           1   \n",
       "99011           0       0       0  0   0      131           0           0   \n",
       "15923           0       0       0  0   0        2           1           1   \n",
       "28419           0       0       0  0   0        5           1           1   \n",
       "74067           0       0       0  0   0       20           0           1   \n",
       "97241           0       0       0  0   0       98           0           0   \n",
       "78635           0       0       0  0   0       35           0           1   \n",
       "\n",
       "                           Cluster  \n",
       "67902  english speaking and nordic  \n",
       "83632  english speaking and nordic  \n",
       "21570             spanish speaking  \n",
       "32934  english speaking and nordic  \n",
       "99011             spanish speaking  \n",
       "15923  english speaking and nordic  \n",
       "28419  english speaking and nordic  \n",
       "74067  english speaking and nordic  \n",
       "97241             spanish speaking  \n",
       "78635  english speaking and nordic  \n",
       "\n",
       "[10 rows x 152 columns]"
      ]
     },
     "execution_count": 26,
     "metadata": {},
     "output_type": "execute_result"
    }
   ],
   "source": [
    "songs2 = pd.read_csv('./Final_database_Clean.csv')\n",
    "songs2.sample(10)"
   ]
  },
  {
   "cell_type": "code",
   "execution_count": 27,
   "id": "4b5e311e",
   "metadata": {
    "scrolled": true
   },
   "outputs": [
    {
     "name": "stdout",
     "output_type": "stream",
     "text": [
      "Initial secondary dataset has 170628 rows and 152 columns.\n"
     ]
    }
   ],
   "source": [
    "songs2.shape\n",
    "print(f'Initial secondary dataset has {songs2.shape[0]} rows and {songs2.shape[1]} columns.')"
   ]
  },
  {
   "cell_type": "code",
   "execution_count": 28,
   "id": "3df07649",
   "metadata": {
    "collapsed": true
   },
   "outputs": [
    {
     "data": {
      "text/plain": [
       "Track_id             object\n",
       "Country              object\n",
       "Uri                  object\n",
       "Popularity          float64\n",
       "Title                object\n",
       "Artist               object\n",
       "Album/Single         object\n",
       "Genre                object\n",
       "Artist_followers    float64\n",
       "Explicit               bool\n",
       "Album                object\n",
       "Release_date         object\n",
       "Track_number          int64\n",
       "Tracks_in_album       int64\n",
       "danceability         object\n",
       "energy               object\n",
       "key                  object\n",
       "loudness             object\n",
       "mode                 object\n",
       "speechiness          object\n",
       "acoustics            object\n",
       "instrumentalness     object\n",
       "liveliness           object\n",
       "valence              object\n",
       "tempo                object\n",
       "duration_ms          object\n",
       "time_signature       object\n",
       "Genre_new            object\n",
       "dtype: object"
      ]
     },
     "execution_count": 28,
     "metadata": {},
     "output_type": "execute_result"
    }
   ],
   "source": [
    "# Check data type of each relevant column\n",
    "songs2.iloc[0:,0:28].dtypes"
   ]
  },
  {
   "cell_type": "code",
   "execution_count": 29,
   "id": "6f4567c3",
   "metadata": {
    "collapsed": true
   },
   "outputs": [
    {
     "data": {
      "text/plain": [
       "Track_id             0\n",
       "Country              0\n",
       "Uri                  0\n",
       "Popularity           0\n",
       "Title                0\n",
       "Artist               0\n",
       "Album/Single         0\n",
       "Genre                0\n",
       "Artist_followers    41\n",
       "Explicit             0\n",
       "Album                0\n",
       "Release_date         0\n",
       "Track_number         0\n",
       "Tracks_in_album      0\n",
       "danceability         0\n",
       "energy               0\n",
       "key                  0\n",
       "loudness             0\n",
       "mode                 0\n",
       "speechiness          0\n",
       "acoustics            0\n",
       "instrumentalness     0\n",
       "liveliness           0\n",
       "valence              0\n",
       "tempo                0\n",
       "duration_ms          0\n",
       "time_signature       0\n",
       "Genre_new            0\n",
       "dtype: int64"
      ]
     },
     "execution_count": 29,
     "metadata": {},
     "output_type": "execute_result"
    }
   ],
   "source": [
    "# Check for null values\n",
    "songs2.iloc[0:,0:28].isnull().sum()"
   ]
  },
  {
   "cell_type": "code",
   "execution_count": 30,
   "id": "31919fb7",
   "metadata": {
    "collapsed": true
   },
   "outputs": [
    {
     "data": {
      "text/plain": [
       "Track_id                                       0usLRFLmYXYahKNgXxsuJc\n",
       "Country                                                        Global\n",
       "Uri                 https://open.spotify.com/track/0usLRFLmYXYahKN...\n",
       "Popularity                                                      183.7\n",
       "Title                                           trivia 起 : just dance\n",
       "Artist                                                            BTS\n",
       "Album/Single                                                    album\n",
       "Genre                                                           k-pop\n",
       "Artist_followers                                           24755789.0\n",
       "Explicit                                                        False\n",
       "Album                                        Love Yourself 結 'Answer'\n",
       "Release_date                                                8/24/2018\n",
       "Name: 279, dtype: object"
      ]
     },
     "execution_count": 30,
     "metadata": {},
     "output_type": "execute_result"
    }
   ],
   "source": [
    "# Check that nontraditional characters appear correctly in Python\n",
    "songs2.iloc[279,0:12]"
   ]
  },
  {
   "cell_type": "code",
   "execution_count": 31,
   "id": "d6248907",
   "metadata": {},
   "outputs": [
    {
     "name": "stdout",
     "output_type": "stream",
     "text": [
      "This dataset has 62419 unique songs.\n"
     ]
    }
   ],
   "source": [
    "print(f'This dataset has {songs2.Track_id.nunique()} unique songs.')"
   ]
  },
  {
   "cell_type": "markdown",
   "id": "681328cc",
   "metadata": {},
   "source": [
    "### Remove duplicate songs in Excel\n",
    "### Download new dataset with unique songs"
   ]
  },
  {
   "cell_type": "code",
   "execution_count": 32,
   "id": "f74d373e",
   "metadata": {},
   "outputs": [],
   "source": [
    "songs2 = pd.read_csv('./Final_database_Unique.csv')"
   ]
  },
  {
   "cell_type": "code",
   "execution_count": 33,
   "id": "07e558d0",
   "metadata": {},
   "outputs": [
    {
     "name": "stdout",
     "output_type": "stream",
     "text": [
      "Cleaned dataset has 62416 rows and 62416 uniques songs.\n"
     ]
    }
   ],
   "source": [
    "print(f'Cleaned dataset has {songs2.shape[0]} rows and {songs2.Track_id.nunique()} uniques songs.')"
   ]
  },
  {
   "cell_type": "code",
   "execution_count": 34,
   "id": "bbc0bd41",
   "metadata": {
    "collapsed": true
   },
   "outputs": [
    {
     "data": {
      "text/plain": [
       "Track_id             0\n",
       "Uri                  0\n",
       "Title                0\n",
       "Artist               0\n",
       "Album/Single         0\n",
       "Genre                0\n",
       "Artist_followers    35\n",
       "Explicit             0\n",
       "Album                0\n",
       "Release_date         0\n",
       "Track_number         0\n",
       "Tracks_in_album      0\n",
       "danceability         0\n",
       "energy               0\n",
       "key                  0\n",
       "loudness             0\n",
       "mode                 0\n",
       "speechiness          0\n",
       "acoustics            0\n",
       "instrumentalness     0\n",
       "liveliness           0\n",
       "valence              0\n",
       "tempo                0\n",
       "duration_ms          0\n",
       "time_signature       0\n",
       "Genre_new            0\n",
       "dtype: int64"
      ]
     },
     "execution_count": 34,
     "metadata": {},
     "output_type": "execute_result"
    }
   ],
   "source": [
    "#Check for null values\n",
    "songs2.iloc[0:,0:26].isnull().sum()"
   ]
  },
  {
   "cell_type": "code",
   "execution_count": 35,
   "id": "0b172bbf",
   "metadata": {
    "collapsed": true
   },
   "outputs": [
    {
     "data": {
      "text/plain": [
       "Track_id             object\n",
       "Uri                  object\n",
       "Title                object\n",
       "Artist               object\n",
       "Album/Single         object\n",
       "Genre                object\n",
       "Artist_followers    float64\n",
       "Explicit               bool\n",
       "Album                object\n",
       "Release_date         object\n",
       "Track_number          int64\n",
       "Tracks_in_album       int64\n",
       "danceability        float64\n",
       "energy              float64\n",
       "key                   int64\n",
       "loudness            float64\n",
       "mode                  int64\n",
       "speechiness         float64\n",
       "acoustics           float64\n",
       "instrumentalness    float64\n",
       "liveliness          float64\n",
       "valence             float64\n",
       "tempo               float64\n",
       "duration_ms           int64\n",
       "time_signature        int64\n",
       "Genre_new            object\n",
       "dtype: object"
      ]
     },
     "execution_count": 35,
     "metadata": {},
     "output_type": "execute_result"
    }
   ],
   "source": [
    "# Check data type of each column\n",
    "songs2.iloc[0:,0:26].dtypes"
   ]
  },
  {
   "cell_type": "code",
   "execution_count": 36,
   "id": "74cdacb0",
   "metadata": {
    "collapsed": true
   },
   "outputs": [
    {
     "data": {
      "text/plain": [
       "Track_id                                       0usLRFLmYXYahKNgXxsuJc\n",
       "Uri                 https://open.spotify.com/track/0usLRFLmYXYahKN...\n",
       "Title                                           trivia 起 : just dance\n",
       "Artist                                                            BTS\n",
       "Album/Single                                                    album\n",
       "Genre                                                           k-pop\n",
       "Artist_followers                                           24755789.0\n",
       "Explicit                                                        False\n",
       "Album                                        Love Yourself 結 'Answer'\n",
       "Release_date                                                8/24/2018\n",
       "Track_number                                                        2\n",
       "Tracks_in_album                                                    26\n",
       "Name: 2011, dtype: object"
      ]
     },
     "execution_count": 36,
     "metadata": {},
     "output_type": "execute_result"
    }
   ],
   "source": [
    "# Check that nontraditional characters appear correctly in Python\n",
    "songs2.iloc[2011,0:12]"
   ]
  }
 ],
 "metadata": {
  "kernelspec": {
   "display_name": "Python 3 (ipykernel)",
   "language": "python",
   "name": "python3"
  },
  "language_info": {
   "codemirror_mode": {
    "name": "ipython",
    "version": 3
   },
   "file_extension": ".py",
   "mimetype": "text/x-python",
   "name": "python",
   "nbconvert_exporter": "python",
   "pygments_lexer": "ipython3",
   "version": "3.10.9"
  }
 },
 "nbformat": 4,
 "nbformat_minor": 5
}
