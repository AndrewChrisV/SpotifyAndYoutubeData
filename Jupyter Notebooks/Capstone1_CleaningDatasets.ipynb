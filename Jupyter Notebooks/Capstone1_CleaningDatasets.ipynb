{
 "cells": [
  {
   "cell_type": "markdown",
   "id": "fe2913ef",
   "metadata": {},
   "source": [
    "# Capstone Jupyter Notebook 1 - Cleaning Data"
   ]
  },
  {
   "cell_type": "code",
   "execution_count": 1,
   "id": "a56f4db2",
   "metadata": {},
   "outputs": [],
   "source": [
    "import pandas as pd"
   ]
  },
  {
   "cell_type": "markdown",
   "id": "8217559e",
   "metadata": {},
   "source": [
    "### Download preliminary clean dataset"
   ]
  },
  {
   "cell_type": "code",
   "execution_count": 3,
   "id": "553dd039",
   "metadata": {
    "scrolled": true
   },
   "outputs": [
    {
     "data": {
      "text/html": [
       "<div>\n",
       "<style scoped>\n",
       "    .dataframe tbody tr th:only-of-type {\n",
       "        vertical-align: middle;\n",
       "    }\n",
       "\n",
       "    .dataframe tbody tr th {\n",
       "        vertical-align: top;\n",
       "    }\n",
       "\n",
       "    .dataframe thead th {\n",
       "        text-align: right;\n",
       "    }\n",
       "</style>\n",
       "<table border=\"1\" class=\"dataframe\">\n",
       "  <thead>\n",
       "    <tr style=\"text-align: right;\">\n",
       "      <th></th>\n",
       "      <th>Track</th>\n",
       "      <th>Artist</th>\n",
       "      <th>Track_id</th>\n",
       "      <th>Url_spotify</th>\n",
       "      <th>Album</th>\n",
       "      <th>Album_type</th>\n",
       "      <th>Uri</th>\n",
       "      <th>Danceability</th>\n",
       "      <th>Energy</th>\n",
       "      <th>Key</th>\n",
       "      <th>...</th>\n",
       "      <th>Stream</th>\n",
       "      <th>Url_youtube</th>\n",
       "      <th>Title</th>\n",
       "      <th>Channel</th>\n",
       "      <th>Views</th>\n",
       "      <th>Likes</th>\n",
       "      <th>Comments</th>\n",
       "      <th>Description</th>\n",
       "      <th>Licensed</th>\n",
       "      <th>official_video</th>\n",
       "    </tr>\n",
       "    <tr>\n",
       "      <th>ID</th>\n",
       "      <th></th>\n",
       "      <th></th>\n",
       "      <th></th>\n",
       "      <th></th>\n",
       "      <th></th>\n",
       "      <th></th>\n",
       "      <th></th>\n",
       "      <th></th>\n",
       "      <th></th>\n",
       "      <th></th>\n",
       "      <th></th>\n",
       "      <th></th>\n",
       "      <th></th>\n",
       "      <th></th>\n",
       "      <th></th>\n",
       "      <th></th>\n",
       "      <th></th>\n",
       "      <th></th>\n",
       "      <th></th>\n",
       "      <th></th>\n",
       "      <th></th>\n",
       "    </tr>\n",
       "  </thead>\n",
       "  <tbody>\n",
       "    <tr>\n",
       "      <th>6862</th>\n",
       "      <td>6 Consolations, S. 172: No. 3 in D-Flat Major ...</td>\n",
       "      <td>Daniel Barenboim</td>\n",
       "      <td>1L4NadMj3Jj7YgGaikyhfr</td>\n",
       "      <td>https://open.spotify.com/artist/78sEozQOEJxzXe...</td>\n",
       "      <td>Liszt: Dreams of Love; Consolations; Sonnets o...</td>\n",
       "      <td>album</td>\n",
       "      <td>spotify:track:1L4NadMj3Jj7YgGaikyhfr</td>\n",
       "      <td>0.368</td>\n",
       "      <td>0.00363</td>\n",
       "      <td>1</td>\n",
       "      <td>...</td>\n",
       "      <td>35559851.0</td>\n",
       "      <td>https://www.youtube.com/watch?v=roFXldnkMqA</td>\n",
       "      <td>Liszt: 6 Consolations, S. 172 - No. 3 in D-Fla...</td>\n",
       "      <td>Daniel Barenboim - Topic</td>\n",
       "      <td>8.672500e+04</td>\n",
       "      <td>1192.0</td>\n",
       "      <td>4.0</td>\n",
       "      <td>Provided to YouTube by Universal Music Group\\n...</td>\n",
       "      <td>True</td>\n",
       "      <td>True</td>\n",
       "    </tr>\n",
       "    <tr>\n",
       "      <th>3423</th>\n",
       "      <td>Pistoleros Famosos</td>\n",
       "      <td>Los Cadetes De Linares</td>\n",
       "      <td>1p14xNSMBasfxLqTBn7k6L</td>\n",
       "      <td>https://open.spotify.com/artist/1iIxNEvPPmdFII...</td>\n",
       "      <td>Pistoleros Famosos</td>\n",
       "      <td>album</td>\n",
       "      <td>spotify:track:1p14xNSMBasfxLqTBn7k6L</td>\n",
       "      <td>0.743</td>\n",
       "      <td>0.49000</td>\n",
       "      <td>10</td>\n",
       "      <td>...</td>\n",
       "      <td>24959742.0</td>\n",
       "      <td>https://www.youtube.com/watch?v=RQ-6oE77Rug</td>\n",
       "      <td>Pistoleros Famosos- Los Cadetes De Linares</td>\n",
       "      <td>Puros Corridos</td>\n",
       "      <td>3.919508e+06</td>\n",
       "      <td>14906.0</td>\n",
       "      <td>436.0</td>\n",
       "      <td>pistoleros famosos los cadetes de linares</td>\n",
       "      <td>False</td>\n",
       "      <td>False</td>\n",
       "    </tr>\n",
       "    <tr>\n",
       "      <th>13494</th>\n",
       "      <td>Poker Face</td>\n",
       "      <td>Lady Gaga</td>\n",
       "      <td>5R8dQOPq8haW94K7mgERlO</td>\n",
       "      <td>https://open.spotify.com/artist/1HY2Jd0NmPuamS...</td>\n",
       "      <td>The Fame</td>\n",
       "      <td>album</td>\n",
       "      <td>spotify:track:5R8dQOPq8haW94K7mgERlO</td>\n",
       "      <td>0.851</td>\n",
       "      <td>0.80600</td>\n",
       "      <td>4</td>\n",
       "      <td>...</td>\n",
       "      <td>852750053.0</td>\n",
       "      <td>https://www.youtube.com/watch?v=bESGLojNYSo</td>\n",
       "      <td>Lady Gaga - Poker Face (Official Music Video)</td>\n",
       "      <td>LadyGagaVEVO</td>\n",
       "      <td>1.095355e+09</td>\n",
       "      <td>6103722.0</td>\n",
       "      <td>276401.0</td>\n",
       "      <td>“CHROMATICA”\\nTHE SIXTH ALBUM BY LADY GAGA\\nOU...</td>\n",
       "      <td>True</td>\n",
       "      <td>True</td>\n",
       "    </tr>\n",
       "    <tr>\n",
       "      <th>5368</th>\n",
       "      <td>The Ludlows</td>\n",
       "      <td>James Horner</td>\n",
       "      <td>6vtY2LUeXJ7KISwgiTu0Ph</td>\n",
       "      <td>https://open.spotify.com/artist/3PhL2Vdao2v8SS...</td>\n",
       "      <td>Legends Of The Fall Original Motion Picture So...</td>\n",
       "      <td>album</td>\n",
       "      <td>spotify:track:6vtY2LUeXJ7KISwgiTu0Ph</td>\n",
       "      <td>0.156</td>\n",
       "      <td>0.02230</td>\n",
       "      <td>7</td>\n",
       "      <td>...</td>\n",
       "      <td>41883037.0</td>\n",
       "      <td>https://www.youtube.com/watch?v=2Iio8QmZY8A</td>\n",
       "      <td>Legends of the Fall • The Ludlows • James Horner</td>\n",
       "      <td>HD Film Tributes</td>\n",
       "      <td>3.115735e+06</td>\n",
       "      <td>28866.0</td>\n",
       "      <td>1194.0</td>\n",
       "      <td>Soundtrack from the 1994 Edward Zwick film \"Le...</td>\n",
       "      <td>False</td>\n",
       "      <td>False</td>\n",
       "    </tr>\n",
       "    <tr>\n",
       "      <th>14669</th>\n",
       "      <td>Amigos (con Maria Becerra)</td>\n",
       "      <td>Pablo Alborán</td>\n",
       "      <td>20NeR3CwuyGfRktTncKRU7</td>\n",
       "      <td>https://open.spotify.com/artist/5M9Bb4adKAgrOF...</td>\n",
       "      <td>La cuarta hoja</td>\n",
       "      <td>album</td>\n",
       "      <td>spotify:track:20NeR3CwuyGfRktTncKRU7</td>\n",
       "      <td>0.721</td>\n",
       "      <td>0.81400</td>\n",
       "      <td>11</td>\n",
       "      <td>...</td>\n",
       "      <td>22704502.0</td>\n",
       "      <td>https://www.youtube.com/watch?v=E2LcMAMGUFE</td>\n",
       "      <td>Pablo Alborán, María Becerra - Amigos (Videocl...</td>\n",
       "      <td>Pablo Alborán</td>\n",
       "      <td>1.971451e+07</td>\n",
       "      <td>231269.0</td>\n",
       "      <td>4892.0</td>\n",
       "      <td>Videoclip oficial de la canción de Pablo Albor...</td>\n",
       "      <td>True</td>\n",
       "      <td>True</td>\n",
       "    </tr>\n",
       "    <tr>\n",
       "      <th>2192</th>\n",
       "      <td>Somethin' Stupid</td>\n",
       "      <td>Robbie Williams</td>\n",
       "      <td>4kSKacywUJHdhyst4PL6pl</td>\n",
       "      <td>https://open.spotify.com/artist/2HcwFjNelS49kF...</td>\n",
       "      <td>Swing When You're Winning</td>\n",
       "      <td>album</td>\n",
       "      <td>spotify:track:4kSKacywUJHdhyst4PL6pl</td>\n",
       "      <td>0.654</td>\n",
       "      <td>0.51500</td>\n",
       "      <td>0</td>\n",
       "      <td>...</td>\n",
       "      <td>105775598.0</td>\n",
       "      <td>https://www.youtube.com/watch?v=f43nR8Wu_1Y</td>\n",
       "      <td>Robbie Williams, Nicole Kidman - Somethin' Stupid</td>\n",
       "      <td>robbiewilliamsvevo</td>\n",
       "      <td>4.445855e+07</td>\n",
       "      <td>276258.0</td>\n",
       "      <td>6509.0</td>\n",
       "      <td>Pre-order new album Swings Both Ways now: iTun...</td>\n",
       "      <td>True</td>\n",
       "      <td>True</td>\n",
       "    </tr>\n",
       "    <tr>\n",
       "      <th>5609</th>\n",
       "      <td>Feel Like I Do</td>\n",
       "      <td>Al Green</td>\n",
       "      <td>663E41fUIDEnzN7xTnFLT0</td>\n",
       "      <td>https://open.spotify.com/artist/3dkbV4qihUeMsq...</td>\n",
       "      <td>Moog For Love</td>\n",
       "      <td>single</td>\n",
       "      <td>spotify:track:663E41fUIDEnzN7xTnFLT0</td>\n",
       "      <td>0.887</td>\n",
       "      <td>0.51900</td>\n",
       "      <td>7</td>\n",
       "      <td>...</td>\n",
       "      <td>28297107.0</td>\n",
       "      <td>https://www.youtube.com/watch?v=l7spTDc9sTQ</td>\n",
       "      <td>Discloure feat. Al Green - Feel Like I Do feat...</td>\n",
       "      <td>Curtis Bryant</td>\n",
       "      <td>2.196700e+04</td>\n",
       "      <td>344.0</td>\n",
       "      <td>18.0</td>\n",
       "      <td>Filmed and Edited by. Curtis Bryant \\n\\n*I DO ...</td>\n",
       "      <td>False</td>\n",
       "      <td>False</td>\n",
       "    </tr>\n",
       "    <tr>\n",
       "      <th>20595</th>\n",
       "      <td>Dengo</td>\n",
       "      <td>João Gomes</td>\n",
       "      <td>2Udojaa4kCFg7vBbcIEzHK</td>\n",
       "      <td>https://open.spotify.com/artist/4JNo6Q5KdcRf1v...</td>\n",
       "      <td>Dengo</td>\n",
       "      <td>single</td>\n",
       "      <td>spotify:track:2Udojaa4kCFg7vBbcIEzHK</td>\n",
       "      <td>0.742</td>\n",
       "      <td>0.46700</td>\n",
       "      <td>7</td>\n",
       "      <td>...</td>\n",
       "      <td>8183176.0</td>\n",
       "      <td>https://www.youtube.com/watch?v=I-UEY8A-b5c</td>\n",
       "      <td>DENGO - João Gomes (DVD Acredite - Ao Vivo em ...</td>\n",
       "      <td>João Gomes Cantor</td>\n",
       "      <td>2.277485e+07</td>\n",
       "      <td>114650.0</td>\n",
       "      <td>1525.0</td>\n",
       "      <td>A música #Dengo faz parte do DVD Acredite que ...</td>\n",
       "      <td>False</td>\n",
       "      <td>False</td>\n",
       "    </tr>\n",
       "    <tr>\n",
       "      <th>7751</th>\n",
       "      <td>Lovin' Each Day</td>\n",
       "      <td>Ronan Keating</td>\n",
       "      <td>61fUmn6wYvU7qS62wNvQFN</td>\n",
       "      <td>https://open.spotify.com/artist/3nlHsNqwCSvT98...</td>\n",
       "      <td>Ronan</td>\n",
       "      <td>album</td>\n",
       "      <td>spotify:track:61fUmn6wYvU7qS62wNvQFN</td>\n",
       "      <td>0.541</td>\n",
       "      <td>0.89900</td>\n",
       "      <td>1</td>\n",
       "      <td>...</td>\n",
       "      <td>47980069.0</td>\n",
       "      <td>https://www.youtube.com/watch?v=7bO5h71TlMU</td>\n",
       "      <td>Ronan Keating - Lovin' Each Day</td>\n",
       "      <td>RonanKeatingVEVO</td>\n",
       "      <td>4.980247e+06</td>\n",
       "      <td>23287.0</td>\n",
       "      <td>934.0</td>\n",
       "      <td>Order “Twenty Twenty” – Out now!\\nhttps://Rona...</td>\n",
       "      <td>True</td>\n",
       "      <td>True</td>\n",
       "    </tr>\n",
       "    <tr>\n",
       "      <th>6406</th>\n",
       "      <td>Tchau e Bença - Live From Brazil / 2007</td>\n",
       "      <td>Exaltasamba</td>\n",
       "      <td>1oXFfHuBuasMQ9lnPSRvGU</td>\n",
       "      <td>https://open.spotify.com/artist/6VPRGmbZ0dupZr...</td>\n",
       "      <td>Pagode Do Exalta Ao Vivo</td>\n",
       "      <td>album</td>\n",
       "      <td>spotify:track:1oXFfHuBuasMQ9lnPSRvGU</td>\n",
       "      <td>0.645</td>\n",
       "      <td>0.72600</td>\n",
       "      <td>2</td>\n",
       "      <td>...</td>\n",
       "      <td>30255260.0</td>\n",
       "      <td>https://www.youtube.com/watch?v=1vTDdHIjcIc</td>\n",
       "      <td>Exaltasamba - Tchau E Benca</td>\n",
       "      <td>ExaltasambaVEVO</td>\n",
       "      <td>1.185124e+07</td>\n",
       "      <td>64491.0</td>\n",
       "      <td>1230.0</td>\n",
       "      <td>Music video by Exaltasamba performing Tchau E ...</td>\n",
       "      <td>True</td>\n",
       "      <td>True</td>\n",
       "    </tr>\n",
       "  </tbody>\n",
       "</table>\n",
       "<p>10 rows × 28 columns</p>\n",
       "</div>"
      ],
      "text/plain": [
       "                                                   Track  \\\n",
       "ID                                                         \n",
       "6862   6 Consolations, S. 172: No. 3 in D-Flat Major ...   \n",
       "3423                                  Pistoleros Famosos   \n",
       "13494                                         Poker Face   \n",
       "5368                                         The Ludlows   \n",
       "14669                         Amigos (con Maria Becerra)   \n",
       "2192                                    Somethin' Stupid   \n",
       "5609                                      Feel Like I Do   \n",
       "20595                                              Dengo   \n",
       "7751                                     Lovin' Each Day   \n",
       "6406             Tchau e Bença - Live From Brazil / 2007   \n",
       "\n",
       "                       Artist                Track_id  \\\n",
       "ID                                                      \n",
       "6862         Daniel Barenboim  1L4NadMj3Jj7YgGaikyhfr   \n",
       "3423   Los Cadetes De Linares  1p14xNSMBasfxLqTBn7k6L   \n",
       "13494               Lady Gaga  5R8dQOPq8haW94K7mgERlO   \n",
       "5368             James Horner  6vtY2LUeXJ7KISwgiTu0Ph   \n",
       "14669           Pablo Alborán  20NeR3CwuyGfRktTncKRU7   \n",
       "2192          Robbie Williams  4kSKacywUJHdhyst4PL6pl   \n",
       "5609                 Al Green  663E41fUIDEnzN7xTnFLT0   \n",
       "20595              João Gomes  2Udojaa4kCFg7vBbcIEzHK   \n",
       "7751            Ronan Keating  61fUmn6wYvU7qS62wNvQFN   \n",
       "6406              Exaltasamba  1oXFfHuBuasMQ9lnPSRvGU   \n",
       "\n",
       "                                             Url_spotify  \\\n",
       "ID                                                         \n",
       "6862   https://open.spotify.com/artist/78sEozQOEJxzXe...   \n",
       "3423   https://open.spotify.com/artist/1iIxNEvPPmdFII...   \n",
       "13494  https://open.spotify.com/artist/1HY2Jd0NmPuamS...   \n",
       "5368   https://open.spotify.com/artist/3PhL2Vdao2v8SS...   \n",
       "14669  https://open.spotify.com/artist/5M9Bb4adKAgrOF...   \n",
       "2192   https://open.spotify.com/artist/2HcwFjNelS49kF...   \n",
       "5609   https://open.spotify.com/artist/3dkbV4qihUeMsq...   \n",
       "20595  https://open.spotify.com/artist/4JNo6Q5KdcRf1v...   \n",
       "7751   https://open.spotify.com/artist/3nlHsNqwCSvT98...   \n",
       "6406   https://open.spotify.com/artist/6VPRGmbZ0dupZr...   \n",
       "\n",
       "                                                   Album Album_type  \\\n",
       "ID                                                                    \n",
       "6862   Liszt: Dreams of Love; Consolations; Sonnets o...      album   \n",
       "3423                                  Pistoleros Famosos      album   \n",
       "13494                                           The Fame      album   \n",
       "5368   Legends Of The Fall Original Motion Picture So...      album   \n",
       "14669                                     La cuarta hoja      album   \n",
       "2192                           Swing When You're Winning      album   \n",
       "5609                                       Moog For Love     single   \n",
       "20595                                              Dengo     single   \n",
       "7751                                               Ronan      album   \n",
       "6406                            Pagode Do Exalta Ao Vivo      album   \n",
       "\n",
       "                                        Uri  Danceability   Energy  Key  ...  \\\n",
       "ID                                                                       ...   \n",
       "6862   spotify:track:1L4NadMj3Jj7YgGaikyhfr         0.368  0.00363    1  ...   \n",
       "3423   spotify:track:1p14xNSMBasfxLqTBn7k6L         0.743  0.49000   10  ...   \n",
       "13494  spotify:track:5R8dQOPq8haW94K7mgERlO         0.851  0.80600    4  ...   \n",
       "5368   spotify:track:6vtY2LUeXJ7KISwgiTu0Ph         0.156  0.02230    7  ...   \n",
       "14669  spotify:track:20NeR3CwuyGfRktTncKRU7         0.721  0.81400   11  ...   \n",
       "2192   spotify:track:4kSKacywUJHdhyst4PL6pl         0.654  0.51500    0  ...   \n",
       "5609   spotify:track:663E41fUIDEnzN7xTnFLT0         0.887  0.51900    7  ...   \n",
       "20595  spotify:track:2Udojaa4kCFg7vBbcIEzHK         0.742  0.46700    7  ...   \n",
       "7751   spotify:track:61fUmn6wYvU7qS62wNvQFN         0.541  0.89900    1  ...   \n",
       "6406   spotify:track:1oXFfHuBuasMQ9lnPSRvGU         0.645  0.72600    2  ...   \n",
       "\n",
       "            Stream                                  Url_youtube  \\\n",
       "ID                                                                \n",
       "6862    35559851.0  https://www.youtube.com/watch?v=roFXldnkMqA   \n",
       "3423    24959742.0  https://www.youtube.com/watch?v=RQ-6oE77Rug   \n",
       "13494  852750053.0  https://www.youtube.com/watch?v=bESGLojNYSo   \n",
       "5368    41883037.0  https://www.youtube.com/watch?v=2Iio8QmZY8A   \n",
       "14669   22704502.0  https://www.youtube.com/watch?v=E2LcMAMGUFE   \n",
       "2192   105775598.0  https://www.youtube.com/watch?v=f43nR8Wu_1Y   \n",
       "5609    28297107.0  https://www.youtube.com/watch?v=l7spTDc9sTQ   \n",
       "20595    8183176.0  https://www.youtube.com/watch?v=I-UEY8A-b5c   \n",
       "7751    47980069.0  https://www.youtube.com/watch?v=7bO5h71TlMU   \n",
       "6406    30255260.0  https://www.youtube.com/watch?v=1vTDdHIjcIc   \n",
       "\n",
       "                                                   Title  \\\n",
       "ID                                                         \n",
       "6862   Liszt: 6 Consolations, S. 172 - No. 3 in D-Fla...   \n",
       "3423          Pistoleros Famosos- Los Cadetes De Linares   \n",
       "13494      Lady Gaga - Poker Face (Official Music Video)   \n",
       "5368    Legends of the Fall • The Ludlows • James Horner   \n",
       "14669  Pablo Alborán, María Becerra - Amigos (Videocl...   \n",
       "2192   Robbie Williams, Nicole Kidman - Somethin' Stupid   \n",
       "5609   Discloure feat. Al Green - Feel Like I Do feat...   \n",
       "20595  DENGO - João Gomes (DVD Acredite - Ao Vivo em ...   \n",
       "7751                     Ronan Keating - Lovin' Each Day   \n",
       "6406                         Exaltasamba - Tchau E Benca   \n",
       "\n",
       "                        Channel         Views      Likes  Comments  \\\n",
       "ID                                                                   \n",
       "6862   Daniel Barenboim - Topic  8.672500e+04     1192.0       4.0   \n",
       "3423             Puros Corridos  3.919508e+06    14906.0     436.0   \n",
       "13494              LadyGagaVEVO  1.095355e+09  6103722.0  276401.0   \n",
       "5368           HD Film Tributes  3.115735e+06    28866.0    1194.0   \n",
       "14669             Pablo Alborán  1.971451e+07   231269.0    4892.0   \n",
       "2192         robbiewilliamsvevo  4.445855e+07   276258.0    6509.0   \n",
       "5609              Curtis Bryant  2.196700e+04      344.0      18.0   \n",
       "20595         João Gomes Cantor  2.277485e+07   114650.0    1525.0   \n",
       "7751           RonanKeatingVEVO  4.980247e+06    23287.0     934.0   \n",
       "6406            ExaltasambaVEVO  1.185124e+07    64491.0    1230.0   \n",
       "\n",
       "                                             Description  Licensed  \\\n",
       "ID                                                                   \n",
       "6862   Provided to YouTube by Universal Music Group\\n...      True   \n",
       "3423           pistoleros famosos los cadetes de linares     False   \n",
       "13494  “CHROMATICA”\\nTHE SIXTH ALBUM BY LADY GAGA\\nOU...      True   \n",
       "5368   Soundtrack from the 1994 Edward Zwick film \"Le...     False   \n",
       "14669  Videoclip oficial de la canción de Pablo Albor...      True   \n",
       "2192   Pre-order new album Swings Both Ways now: iTun...      True   \n",
       "5609   Filmed and Edited by. Curtis Bryant \\n\\n*I DO ...     False   \n",
       "20595  A música #Dengo faz parte do DVD Acredite que ...     False   \n",
       "7751   Order “Twenty Twenty” – Out now!\\nhttps://Rona...      True   \n",
       "6406   Music video by Exaltasamba performing Tchau E ...      True   \n",
       "\n",
       "      official_video  \n",
       "ID                    \n",
       "6862            True  \n",
       "3423           False  \n",
       "13494           True  \n",
       "5368           False  \n",
       "14669           True  \n",
       "2192            True  \n",
       "5609           False  \n",
       "20595          False  \n",
       "7751            True  \n",
       "6406            True  \n",
       "\n",
       "[10 rows x 28 columns]"
      ]
     },
     "execution_count": 3,
     "metadata": {},
     "output_type": "execute_result"
    }
   ],
   "source": [
    "songs = pd.read_csv('./Spotify_Youtube_Clean.csv', index_col='ID')\n",
    "songs.sample(10)"
   ]
  },
  {
   "cell_type": "code",
   "execution_count": 5,
   "id": "bba8e097",
   "metadata": {
    "scrolled": true
   },
   "outputs": [
    {
     "name": "stdout",
     "output_type": "stream",
     "text": [
      "Initial dataset has 20716 rows and 28 columns.\n"
     ]
    }
   ],
   "source": [
    "print(f'Initial dataset has {songs.shape[0]} rows and {songs.shape[1]} columns.')"
   ]
  },
  {
   "cell_type": "code",
   "execution_count": 6,
   "id": "51a27f5f",
   "metadata": {
    "scrolled": false
   },
   "outputs": [
    {
     "data": {
      "text/plain": [
       "Track                 0\n",
       "Artist                0\n",
       "Track_id              0\n",
       "Url_spotify           0\n",
       "Album                 0\n",
       "Album_type            0\n",
       "Uri                   0\n",
       "Danceability          0\n",
       "Energy                0\n",
       "Key                   0\n",
       "Loudness              0\n",
       "Speechiness           0\n",
       "Acousticness          0\n",
       "Instrumentalness      0\n",
       "Liveness              0\n",
       "Valence               0\n",
       "Tempo                 0\n",
       "Duration_ms           0\n",
       "Stream              576\n",
       "Url_youtube         469\n",
       "Title               469\n",
       "Channel             469\n",
       "Views               469\n",
       "Likes               540\n",
       "Comments            568\n",
       "Description         875\n",
       "Licensed            469\n",
       "official_video      469\n",
       "dtype: int64"
      ]
     },
     "execution_count": 6,
     "metadata": {},
     "output_type": "execute_result"
    }
   ],
   "source": [
    "# Check for null values\n",
    "songs.isnull().sum()"
   ]
  },
  {
   "cell_type": "code",
   "execution_count": 7,
   "id": "d1c89fea",
   "metadata": {
    "collapsed": true
   },
   "outputs": [
    {
     "data": {
      "text/plain": [
       "Track                object\n",
       "Artist               object\n",
       "Track_id             object\n",
       "Url_spotify          object\n",
       "Album                object\n",
       "Album_type           object\n",
       "Uri                  object\n",
       "Danceability        float64\n",
       "Energy              float64\n",
       "Key                   int64\n",
       "Loudness            float64\n",
       "Speechiness         float64\n",
       "Acousticness        float64\n",
       "Instrumentalness    float64\n",
       "Liveness            float64\n",
       "Valence             float64\n",
       "Tempo               float64\n",
       "Duration_ms           int64\n",
       "Stream              float64\n",
       "Url_youtube          object\n",
       "Title                object\n",
       "Channel              object\n",
       "Views               float64\n",
       "Likes               float64\n",
       "Comments            float64\n",
       "Description          object\n",
       "Licensed             object\n",
       "official_video       object\n",
       "dtype: object"
      ]
     },
     "execution_count": 7,
     "metadata": {},
     "output_type": "execute_result"
    }
   ],
   "source": [
    "# Check data type of each column\n",
    "songs.dtypes"
   ]
  },
  {
   "cell_type": "markdown",
   "id": "8fd0daff",
   "metadata": {},
   "source": [
    "### Create dataset without rows with null (unknown) values for Stream"
   ]
  },
  {
   "cell_type": "code",
   "execution_count": 8,
   "id": "f76f3d0a",
   "metadata": {
    "scrolled": false
   },
   "outputs": [
    {
     "name": "stdout",
     "output_type": "stream",
     "text": [
      "20140 rows have known number of streams.\n"
     ]
    }
   ],
   "source": [
    "songs_with_streams = pd.DataFrame(songs.dropna(subset=['Stream'], inplace=False))\n",
    "print(f'{songs_with_streams.shape[0]} rows have known number of streams.')"
   ]
  },
  {
   "cell_type": "code",
   "execution_count": 9,
   "id": "838a053d",
   "metadata": {},
   "outputs": [
    {
     "name": "stdout",
     "output_type": "stream",
     "text": [
      "This new dataset has 18318 unique songs.\n"
     ]
    }
   ],
   "source": [
    "print(f'This new dataset has {songs_with_streams.Track_id.nunique()} unique songs.')"
   ]
  },
  {
   "cell_type": "markdown",
   "id": "c265b050",
   "metadata": {},
   "source": [
    "### Save this dataset with known values of Spotify streams to a CSV file"
   ]
  },
  {
   "cell_type": "code",
   "execution_count": 10,
   "id": "3b86a7bb",
   "metadata": {},
   "outputs": [],
   "source": [
    "songs_with_streams.to_csv('Spotify.csv')"
   ]
  },
  {
   "cell_type": "markdown",
   "id": "849a0ab1",
   "metadata": {},
   "source": [
    "### Remove duplicate songs in Excel\n",
    "### Download new dataset with unique songs"
   ]
  },
  {
   "cell_type": "code",
   "execution_count": 12,
   "id": "44b99a53",
   "metadata": {},
   "outputs": [],
   "source": [
    "songs_with_streams = pd.read_csv('./Spotify_Unique.csv', index_col='ID')"
   ]
  },
  {
   "cell_type": "code",
   "execution_count": 14,
   "id": "591de7fa",
   "metadata": {},
   "outputs": [
    {
     "name": "stdout",
     "output_type": "stream",
     "text": [
      "Cleaned dataset has 18318 rows and 18318 uniques songs.\n"
     ]
    }
   ],
   "source": [
    "print(f'Cleaned dataset has {songs_with_streams.shape[0]} rows and {songs_with_streams.Track_id.nunique()} uniques songs.')"
   ]
  },
  {
   "cell_type": "code",
   "execution_count": 15,
   "id": "9668be47",
   "metadata": {
    "collapsed": true
   },
   "outputs": [
    {
     "data": {
      "text/plain": [
       "Track                object\n",
       "Track_id             object\n",
       "Album                object\n",
       "Album_type           object\n",
       "Uri                  object\n",
       "Danceability        float64\n",
       "Energy              float64\n",
       "Key                   int64\n",
       "Loudness            float64\n",
       "Speechiness         float64\n",
       "Acousticness        float64\n",
       "Instrumentalness    float64\n",
       "Liveness            float64\n",
       "Valence             float64\n",
       "Tempo               float64\n",
       "Duration_ms           int64\n",
       "Stream                int64\n",
       "Url_youtube          object\n",
       "Title                object\n",
       "Channel              object\n",
       "Views               float64\n",
       "Likes               float64\n",
       "Comments            float64\n",
       "Description          object\n",
       "Licensed             object\n",
       "official_video       object\n",
       "dtype: object"
      ]
     },
     "execution_count": 15,
     "metadata": {},
     "output_type": "execute_result"
    }
   ],
   "source": [
    "# Check data type of each column\n",
    "songs_with_streams.dtypes"
   ]
  },
  {
   "cell_type": "code",
   "execution_count": 16,
   "id": "566cd948",
   "metadata": {
    "collapsed": true
   },
   "outputs": [
    {
     "data": {
      "text/plain": [
       "Track                 0\n",
       "Track_id              0\n",
       "Album                 0\n",
       "Album_type            0\n",
       "Uri                   0\n",
       "Danceability          0\n",
       "Energy                0\n",
       "Key                   0\n",
       "Loudness              0\n",
       "Speechiness           0\n",
       "Acousticness          0\n",
       "Instrumentalness      0\n",
       "Liveness              0\n",
       "Valence               0\n",
       "Tempo                 0\n",
       "Duration_ms           0\n",
       "Stream                0\n",
       "Url_youtube         383\n",
       "Title               383\n",
       "Channel             383\n",
       "Views               383\n",
       "Likes               449\n",
       "Comments            476\n",
       "Description         754\n",
       "Licensed            383\n",
       "official_video      383\n",
       "dtype: int64"
      ]
     },
     "execution_count": 16,
     "metadata": {},
     "output_type": "execute_result"
    }
   ],
   "source": [
    "# Check for null values\n",
    "songs_with_streams.isnull().sum()"
   ]
  },
  {
   "cell_type": "code",
   "execution_count": 17,
   "id": "31927dac",
   "metadata": {},
   "outputs": [
    {
     "data": {
      "text/plain": [
       "(6574, 3386520288)"
      ]
     },
     "execution_count": 17,
     "metadata": {},
     "output_type": "execute_result"
    }
   ],
   "source": [
    "# Make sure Stream column has correct values\n",
    "songs_with_streams.Stream.min(), songs_with_streams.Stream.max()"
   ]
  },
  {
   "cell_type": "code",
   "execution_count": 18,
   "id": "1e6cb2cd",
   "metadata": {
    "collapsed": true
   },
   "outputs": [
    {
     "data": {
      "text/plain": [
       "Track                              She's My Collar (feat. Kali Uchis)\n",
       "Track_id                                       3lIxtCaROdRDuTnNBDm3n2\n",
       "Album                                                 Humanz (Deluxe)\n",
       "Album_type                                                      album\n",
       "Uri                              spotify:track:3lIxtCaROdRDuTnNBDm3n2\n",
       "Danceability                                                    0.726\n",
       "Energy                                                          0.815\n",
       "Key                                                                11\n",
       "Loudness                                                       -5.886\n",
       "Speechiness                                                    0.0313\n",
       "Acousticness                                                  0.00799\n",
       "Instrumentalness                                                0.081\n",
       "Liveness                                                        0.112\n",
       "Valence                                                         0.462\n",
       "Tempo                                                         140.158\n",
       "Duration_ms                                                    209560\n",
       "Stream                                                      159605929\n",
       "Url_youtube               https://www.youtube.com/watch?v=f8NwLXYIHS4\n",
       "Title                                 Gorillaz - She's My Collar [HQ]\n",
       "Channel                                                    SalvaMuñox\n",
       "Views                                                       1010982.0\n",
       "Likes                                                         17675.0\n",
       "Comments                                                        260.0\n",
       "Description         𝐁̲𝐎̲𝐍̲𝐔̲𝐒̲:̲ Hu̳ma̳n̳z [̲̠̲𝐃̲̠̲𝐄̲̠̲𝐅̲̠̲𝐈̲̠̲𝐍̲̠...\n",
       "Licensed                                                        False\n",
       "official_video                                                  False\n",
       "Name: 7, dtype: object"
      ]
     },
     "execution_count": 18,
     "metadata": {},
     "output_type": "execute_result"
    }
   ],
   "source": [
    "# Check that nontraditional characters appear correctly in Python\n",
    "songs_with_streams.loc[7]"
   ]
  },
  {
   "cell_type": "code",
   "execution_count": 19,
   "id": "fad21383",
   "metadata": {
    "collapsed": true
   },
   "outputs": [
    {
     "data": {
      "text/plain": [
       "Track                                                      Lux Æterna\n",
       "Track_id                                       3pwmJJRlr8nXNN9PFD18np\n",
       "Album                                                      Lux Æterna\n",
       "Album_type                                                     single\n",
       "Uri                              spotify:track:3pwmJJRlr8nXNN9PFD18np\n",
       "Danceability                                                    0.386\n",
       "Energy                                                          0.996\n",
       "Key                                                                11\n",
       "Loudness                                                        -2.96\n",
       "Speechiness                                                    0.0754\n",
       "Acousticness                                                 0.000012\n",
       "Instrumentalness                                             0.000836\n",
       "Liveness                                                        0.116\n",
       "Valence                                                         0.188\n",
       "Tempo                                                         130.573\n",
       "Duration_ms                                                    205680\n",
       "Stream                                                       20061385\n",
       "Url_youtube               https://www.youtube.com/watch?v=_u-7rWKnVVo\n",
       "Title                    Metallica: Lux Æterna (Official Music Video)\n",
       "Channel                                                     Metallica\n",
       "Views                                                      14937918.0\n",
       "Likes                                                        473751.0\n",
       "Comments                                                      46230.0\n",
       "Description         Metallica's official music video for “Lux Æter...\n",
       "Licensed                                                         True\n",
       "official_video                                                   True\n",
       "Name: 37, dtype: object"
      ]
     },
     "execution_count": 19,
     "metadata": {},
     "output_type": "execute_result"
    }
   ],
   "source": [
    "songs_with_streams.loc[37]"
   ]
  },
  {
   "cell_type": "markdown",
   "id": "f0a1b84c",
   "metadata": {},
   "source": [
    "### Create dataset without rows without YouTube videos"
   ]
  },
  {
   "cell_type": "code",
   "execution_count": 20,
   "id": "c8a8ceb4",
   "metadata": {},
   "outputs": [
    {
     "name": "stdout",
     "output_type": "stream",
     "text": [
      "20247 rows have YouTube videos.\n"
     ]
    }
   ],
   "source": [
    "songs_with_videos = pd.DataFrame(songs.dropna(subset=['Url_youtube'], inplace=False))\n",
    "print(f'{songs_with_videos.shape[0]} rows have YouTube videos.')"
   ]
  },
  {
   "cell_type": "code",
   "execution_count": 21,
   "id": "c8e81b27",
   "metadata": {},
   "outputs": [
    {
     "name": "stdout",
     "output_type": "stream",
     "text": [
      "This new dataset has 18318 unique songs.\n"
     ]
    }
   ],
   "source": [
    "print(f'This new dataset has {songs_with_streams.Track_id.nunique()} unique songs.')"
   ]
  },
  {
   "cell_type": "markdown",
   "id": "86dc2f0a",
   "metadata": {},
   "source": [
    "### Save this dataset of songs with YouTube videos to a CSV file"
   ]
  },
  {
   "cell_type": "code",
   "execution_count": 22,
   "id": "5535e1d7",
   "metadata": {},
   "outputs": [],
   "source": [
    "songs_with_videos.to_csv('Youtube.csv')"
   ]
  },
  {
   "cell_type": "markdown",
   "id": "be32e45a",
   "metadata": {},
   "source": [
    "### Remove duplicate songs in Excel\n",
    "### Download new dataset with unique songs"
   ]
  },
  {
   "cell_type": "code",
   "execution_count": 25,
   "id": "323716fb",
   "metadata": {},
   "outputs": [],
   "source": [
    "songs_with_videos = pd.read_csv('./Youtube_Unique.csv', index_col='ID')"
   ]
  },
  {
   "cell_type": "code",
   "execution_count": 26,
   "id": "18c2c0db",
   "metadata": {},
   "outputs": [
    {
     "name": "stdout",
     "output_type": "stream",
     "text": [
      "Cleaned dataset has 18488 rows and 18488 uniques songs.\n"
     ]
    }
   ],
   "source": [
    "print(f'Cleaned dataset has {songs_with_videos.shape[0]} rows and {songs_with_videos.Track_id.nunique()} uniques songs.')"
   ]
  },
  {
   "cell_type": "code",
   "execution_count": 27,
   "id": "4a3603cd",
   "metadata": {
    "collapsed": true
   },
   "outputs": [
    {
     "data": {
      "text/plain": [
       "Track                object\n",
       "Track_id             object\n",
       "Album                object\n",
       "Album_type           object\n",
       "Uri                  object\n",
       "Danceability        float64\n",
       "Energy              float64\n",
       "Key                   int64\n",
       "Loudness            float64\n",
       "Speechiness         float64\n",
       "Acousticness        float64\n",
       "Instrumentalness    float64\n",
       "Liveness            float64\n",
       "Valence             float64\n",
       "Tempo               float64\n",
       "Duration_ms           int64\n",
       "Stream              float64\n",
       "Url_youtube          object\n",
       "Title                object\n",
       "Channel              object\n",
       "Views                 int64\n",
       "Likes               float64\n",
       "Comments            float64\n",
       "Description          object\n",
       "Licensed               bool\n",
       "official_video         bool\n",
       "dtype: object"
      ]
     },
     "execution_count": 27,
     "metadata": {},
     "output_type": "execute_result"
    }
   ],
   "source": [
    "# Check data type of each column\n",
    "songs_with_videos.dtypes"
   ]
  },
  {
   "cell_type": "code",
   "execution_count": 28,
   "id": "d7536bf5",
   "metadata": {
    "collapsed": true
   },
   "outputs": [
    {
     "data": {
      "text/plain": [
       "Track                 0\n",
       "Track_id              0\n",
       "Album                 0\n",
       "Album_type            0\n",
       "Uri                   0\n",
       "Danceability          0\n",
       "Energy                0\n",
       "Key                   0\n",
       "Loudness              0\n",
       "Speechiness           0\n",
       "Acousticness          0\n",
       "Instrumentalness      0\n",
       "Liveness              0\n",
       "Valence               0\n",
       "Tempo                 0\n",
       "Duration_ms           0\n",
       "Stream              530\n",
       "Url_youtube           0\n",
       "Title                 0\n",
       "Channel               0\n",
       "Views                 0\n",
       "Likes                69\n",
       "Comments             96\n",
       "Description         386\n",
       "Licensed              0\n",
       "official_video        0\n",
       "dtype: int64"
      ]
     },
     "execution_count": 28,
     "metadata": {},
     "output_type": "execute_result"
    }
   ],
   "source": [
    "# Check for null values\n",
    "songs_with_videos.isnull().sum()"
   ]
  },
  {
   "cell_type": "code",
   "execution_count": 29,
   "id": "817de688",
   "metadata": {},
   "outputs": [
    {
     "data": {
      "text/plain": [
       "(0, 8079646911)"
      ]
     },
     "execution_count": 29,
     "metadata": {},
     "output_type": "execute_result"
    }
   ],
   "source": [
    "# Make sure Views column has correct values\n",
    "songs_with_videos.Views.min(), songs_with_videos.Views.max()"
   ]
  },
  {
   "cell_type": "code",
   "execution_count": 30,
   "id": "80dd957f",
   "metadata": {
    "collapsed": true
   },
   "outputs": [
    {
     "data": {
      "text/plain": [
       "Track                              She's My Collar (feat. Kali Uchis)\n",
       "Track_id                                       3lIxtCaROdRDuTnNBDm3n2\n",
       "Album                                                 Humanz (Deluxe)\n",
       "Album_type                                                      album\n",
       "Uri                              spotify:track:3lIxtCaROdRDuTnNBDm3n2\n",
       "Danceability                                                    0.726\n",
       "Energy                                                          0.815\n",
       "Key                                                                11\n",
       "Loudness                                                       -5.886\n",
       "Speechiness                                                    0.0313\n",
       "Acousticness                                                  0.00799\n",
       "Instrumentalness                                                0.081\n",
       "Liveness                                                        0.112\n",
       "Valence                                                         0.462\n",
       "Tempo                                                         140.158\n",
       "Duration_ms                                                    209560\n",
       "Stream                                                    159605929.0\n",
       "Url_youtube               https://www.youtube.com/watch?v=f8NwLXYIHS4\n",
       "Title                                 Gorillaz - She's My Collar [HQ]\n",
       "Channel                                                    SalvaMuñox\n",
       "Views                                                         1010982\n",
       "Likes                                                         17675.0\n",
       "Comments                                                        260.0\n",
       "Description         𝐁̲𝐎̲𝐍̲𝐔̲𝐒̲:̲ Hu̳ma̳n̳z [̲̠̲𝐃̲̠̲𝐄̲̠̲𝐅̲̠̲𝐈̲̠̲𝐍̲̠...\n",
       "Licensed                                                        False\n",
       "official_video                                                  False\n",
       "Name: 7, dtype: object"
      ]
     },
     "execution_count": 30,
     "metadata": {},
     "output_type": "execute_result"
    }
   ],
   "source": [
    "# Check that nontraditional characters appear correctly in Python\n",
    "songs_with_videos.loc[7]"
   ]
  },
  {
   "cell_type": "code",
   "execution_count": 31,
   "id": "36f56567",
   "metadata": {
    "collapsed": true
   },
   "outputs": [
    {
     "data": {
      "text/plain": [
       "Track                                                      Lux Æterna\n",
       "Track_id                                       3pwmJJRlr8nXNN9PFD18np\n",
       "Album                                                      Lux Æterna\n",
       "Album_type                                                     single\n",
       "Uri                              spotify:track:3pwmJJRlr8nXNN9PFD18np\n",
       "Danceability                                                    0.386\n",
       "Energy                                                          0.996\n",
       "Key                                                                11\n",
       "Loudness                                                        -2.96\n",
       "Speechiness                                                    0.0754\n",
       "Acousticness                                                 0.000012\n",
       "Instrumentalness                                             0.000836\n",
       "Liveness                                                        0.116\n",
       "Valence                                                         0.188\n",
       "Tempo                                                         130.573\n",
       "Duration_ms                                                    205680\n",
       "Stream                                                     20061385.0\n",
       "Url_youtube               https://www.youtube.com/watch?v=_u-7rWKnVVo\n",
       "Title                    Metallica: Lux Æterna (Official Music Video)\n",
       "Channel                                                     Metallica\n",
       "Views                                                        14937918\n",
       "Likes                                                        473751.0\n",
       "Comments                                                      46230.0\n",
       "Description         Metallica's official music video for “Lux Æter...\n",
       "Licensed                                                         True\n",
       "official_video                                                   True\n",
       "Name: 37, dtype: object"
      ]
     },
     "execution_count": 31,
     "metadata": {},
     "output_type": "execute_result"
    }
   ],
   "source": [
    "songs_with_videos.loc[37]"
   ]
  },
  {
   "cell_type": "markdown",
   "id": "45ff9ce1",
   "metadata": {},
   "source": [
    "### Download preliminary clean secondary dataset"
   ]
  },
  {
   "cell_type": "code",
   "execution_count": 33,
   "id": "2b3d88f4",
   "metadata": {
    "scrolled": true
   },
   "outputs": [
    {
     "name": "stderr",
     "output_type": "stream",
     "text": [
      "C:\\Users\\Andrew Vieira\\AppData\\Local\\Temp\\ipykernel_14780\\19069356.py:1: DtypeWarning: Columns (14,15,16,17,18,19,20,21,22,23,24,25,26) have mixed types. Specify dtype option on import or set low_memory=False.\n",
      "  songs2 = pd.read_csv('./Final_database_Clean.csv')\n"
     ]
    },
    {
     "data": {
      "text/html": [
       "<div>\n",
       "<style scoped>\n",
       "    .dataframe tbody tr th:only-of-type {\n",
       "        vertical-align: middle;\n",
       "    }\n",
       "\n",
       "    .dataframe tbody tr th {\n",
       "        vertical-align: top;\n",
       "    }\n",
       "\n",
       "    .dataframe thead th {\n",
       "        text-align: right;\n",
       "    }\n",
       "</style>\n",
       "<table border=\"1\" class=\"dataframe\">\n",
       "  <thead>\n",
       "    <tr style=\"text-align: right;\">\n",
       "      <th></th>\n",
       "      <th>Track_id</th>\n",
       "      <th>Country</th>\n",
       "      <th>Uri</th>\n",
       "      <th>Popularity</th>\n",
       "      <th>Title</th>\n",
       "      <th>Artist</th>\n",
       "      <th>Album/Single</th>\n",
       "      <th>Genre</th>\n",
       "      <th>Artist_followers</th>\n",
       "      <th>Explicit</th>\n",
       "      <th>...</th>\n",
       "      <th>Sweden</th>\n",
       "      <th>Switzerland</th>\n",
       "      <th>Taiwan</th>\n",
       "      <th>Turkey</th>\n",
       "      <th>UK</th>\n",
       "      <th>USA</th>\n",
       "      <th>Popu_max</th>\n",
       "      <th>Top10_dummy</th>\n",
       "      <th>Top50_dummy</th>\n",
       "      <th>Cluster</th>\n",
       "    </tr>\n",
       "  </thead>\n",
       "  <tbody>\n",
       "    <tr>\n",
       "      <th>47056</th>\n",
       "      <td>4axYWgXASdsCBHuwInAubT</td>\n",
       "      <td>Costa Rica</td>\n",
       "      <td>https://open.spotify.com/track/4axYWgXASdsCBHu...</td>\n",
       "      <td>42.4</td>\n",
       "      <td>i don’t let go</td>\n",
       "      <td>XXXTENTACION</td>\n",
       "      <td>album</td>\n",
       "      <td>emo rap</td>\n",
       "      <td>22910410.0</td>\n",
       "      <td>True</td>\n",
       "      <td>...</td>\n",
       "      <td>0</td>\n",
       "      <td>0</td>\n",
       "      <td>0</td>\n",
       "      <td>0</td>\n",
       "      <td>0</td>\n",
       "      <td>0</td>\n",
       "      <td>148</td>\n",
       "      <td>0</td>\n",
       "      <td>0</td>\n",
       "      <td>spanish speaking</td>\n",
       "    </tr>\n",
       "    <tr>\n",
       "      <th>26511</th>\n",
       "      <td>2p8IUWQDrpjuFltbdgLOag</td>\n",
       "      <td>Spain</td>\n",
       "      <td>https://open.spotify.com/track/2p8IUWQDrpjuFlt...</td>\n",
       "      <td>218.4</td>\n",
       "      <td>after hours</td>\n",
       "      <td>The Weeknd</td>\n",
       "      <td>album</td>\n",
       "      <td>canadian contemporary r&amp;b</td>\n",
       "      <td>25562055.0</td>\n",
       "      <td>False</td>\n",
       "      <td>...</td>\n",
       "      <td>0</td>\n",
       "      <td>0</td>\n",
       "      <td>0</td>\n",
       "      <td>0</td>\n",
       "      <td>0</td>\n",
       "      <td>0</td>\n",
       "      <td>126</td>\n",
       "      <td>0</td>\n",
       "      <td>0</td>\n",
       "      <td>spanish speaking</td>\n",
       "    </tr>\n",
       "    <tr>\n",
       "      <th>8963</th>\n",
       "      <td>7uzmGiiJyRfuViKKK3lVmR</td>\n",
       "      <td>France</td>\n",
       "      <td>https://open.spotify.com/track/7uzmGiiJyRfuViK...</td>\n",
       "      <td>6502.5</td>\n",
       "      <td>mine</td>\n",
       "      <td>Bazzi</td>\n",
       "      <td>album</td>\n",
       "      <td>pop</td>\n",
       "      <td>3807231.0</td>\n",
       "      <td>True</td>\n",
       "      <td>...</td>\n",
       "      <td>0</td>\n",
       "      <td>0</td>\n",
       "      <td>0</td>\n",
       "      <td>0</td>\n",
       "      <td>0</td>\n",
       "      <td>0</td>\n",
       "      <td>48</td>\n",
       "      <td>0</td>\n",
       "      <td>1</td>\n",
       "      <td>southern europe and portuguese heritage</td>\n",
       "    </tr>\n",
       "    <tr>\n",
       "      <th>78516</th>\n",
       "      <td>4QfNOZN7vrQCQKK1ZJ3XPb</td>\n",
       "      <td>Canada</td>\n",
       "      <td>https://open.spotify.com/track/4QfNOZN7vrQCQKK...</td>\n",
       "      <td>8155.3</td>\n",
       "      <td>heaven</td>\n",
       "      <td>Julia Michaels</td>\n",
       "      <td>single</td>\n",
       "      <td>dance pop</td>\n",
       "      <td>3285815.0</td>\n",
       "      <td>False</td>\n",
       "      <td>...</td>\n",
       "      <td>0</td>\n",
       "      <td>0</td>\n",
       "      <td>0</td>\n",
       "      <td>0</td>\n",
       "      <td>0</td>\n",
       "      <td>0</td>\n",
       "      <td>26</td>\n",
       "      <td>0</td>\n",
       "      <td>1</td>\n",
       "      <td>english speaking and nordic</td>\n",
       "    </tr>\n",
       "    <tr>\n",
       "      <th>104104</th>\n",
       "      <td>4RvS94Li3lohRtTSz5X3xZ</td>\n",
       "      <td>Austria</td>\n",
       "      <td>https://open.spotify.com/track/4RvS94Li3lohRtT...</td>\n",
       "      <td>1582.0</td>\n",
       "      <td>lalala</td>\n",
       "      <td>Olexesh - Jala Brat - Buba Corelli - DJ Katch</td>\n",
       "      <td>album</td>\n",
       "      <td>deep german hip hop</td>\n",
       "      <td>750077.0</td>\n",
       "      <td>False</td>\n",
       "      <td>...</td>\n",
       "      <td>0</td>\n",
       "      <td>0</td>\n",
       "      <td>0</td>\n",
       "      <td>0</td>\n",
       "      <td>0</td>\n",
       "      <td>0</td>\n",
       "      <td>50</td>\n",
       "      <td>0</td>\n",
       "      <td>1</td>\n",
       "      <td>english speaking and nordic</td>\n",
       "    </tr>\n",
       "    <tr>\n",
       "      <th>54704</th>\n",
       "      <td>6rAGFgcGtlIdYxlhDizXNo</td>\n",
       "      <td>Belgium</td>\n",
       "      <td>https://open.spotify.com/track/6rAGFgcGtlIdYxl...</td>\n",
       "      <td>373.3</td>\n",
       "      <td>smash! - feat. pnb rock</td>\n",
       "      <td>XXXTENTACION - PnB Rock</td>\n",
       "      <td>album</td>\n",
       "      <td>emo rap</td>\n",
       "      <td>22910410.0</td>\n",
       "      <td>True</td>\n",
       "      <td>...</td>\n",
       "      <td>0</td>\n",
       "      <td>0</td>\n",
       "      <td>0</td>\n",
       "      <td>0</td>\n",
       "      <td>0</td>\n",
       "      <td>0</td>\n",
       "      <td>79</td>\n",
       "      <td>0</td>\n",
       "      <td>0</td>\n",
       "      <td>english speaking and nordic</td>\n",
       "    </tr>\n",
       "    <tr>\n",
       "      <th>25263</th>\n",
       "      <td>3PEgB3fkiojxms35ntsTgs</td>\n",
       "      <td>Norway</td>\n",
       "      <td>https://open.spotify.com/track/3PEgB3fkiojxms3...</td>\n",
       "      <td>30905.1</td>\n",
       "      <td>more than you know</td>\n",
       "      <td>Axwell /\\ Ingrosso</td>\n",
       "      <td>album</td>\n",
       "      <td>big room</td>\n",
       "      <td>2193315.0</td>\n",
       "      <td>False</td>\n",
       "      <td>...</td>\n",
       "      <td>0</td>\n",
       "      <td>0</td>\n",
       "      <td>0</td>\n",
       "      <td>0</td>\n",
       "      <td>0</td>\n",
       "      <td>0</td>\n",
       "      <td>4</td>\n",
       "      <td>1</td>\n",
       "      <td>1</td>\n",
       "      <td>english speaking and nordic</td>\n",
       "    </tr>\n",
       "    <tr>\n",
       "      <th>150617</th>\n",
       "      <td>0KWnRv3wxjltYVB3MqjNd2</td>\n",
       "      <td>Malaysia</td>\n",
       "      <td>https://open.spotify.com/track/0KWnRv3wxjltYVB...</td>\n",
       "      <td>5.6</td>\n",
       "      <td>without you</td>\n",
       "      <td>高爾宣 OSN</td>\n",
       "      <td>album</td>\n",
       "      <td>mandopop</td>\n",
       "      <td>139977.0</td>\n",
       "      <td>False</td>\n",
       "      <td>...</td>\n",
       "      <td>0</td>\n",
       "      <td>0</td>\n",
       "      <td>0</td>\n",
       "      <td>0</td>\n",
       "      <td>0</td>\n",
       "      <td>0</td>\n",
       "      <td>198</td>\n",
       "      <td>0</td>\n",
       "      <td>0</td>\n",
       "      <td>english speaking and nordic</td>\n",
       "    </tr>\n",
       "    <tr>\n",
       "      <th>127207</th>\n",
       "      <td>3DN6Gss0WIEMXc1AvnrAA5</td>\n",
       "      <td>Spain</td>\n",
       "      <td>https://open.spotify.com/track/3DN6Gss0WIEMXc1...</td>\n",
       "      <td>72.0</td>\n",
       "      <td>ay corazón</td>\n",
       "      <td>Cali Y El Dandee</td>\n",
       "      <td>single</td>\n",
       "      <td>champeta</td>\n",
       "      <td>2712454.0</td>\n",
       "      <td>False</td>\n",
       "      <td>...</td>\n",
       "      <td>0</td>\n",
       "      <td>0</td>\n",
       "      <td>0</td>\n",
       "      <td>0</td>\n",
       "      <td>0</td>\n",
       "      <td>0</td>\n",
       "      <td>148</td>\n",
       "      <td>0</td>\n",
       "      <td>0</td>\n",
       "      <td>spanish speaking</td>\n",
       "    </tr>\n",
       "    <tr>\n",
       "      <th>81082</th>\n",
       "      <td>5C0ivQMxes2lWuOANhvVAm</td>\n",
       "      <td>Austria</td>\n",
       "      <td>https://open.spotify.com/track/5C0ivQMxes2lWuO...</td>\n",
       "      <td>13.6</td>\n",
       "      <td>giants</td>\n",
       "      <td>True Damage - Becky G - Keke Palmer - SOYEON o...</td>\n",
       "      <td>single</td>\n",
       "      <td>k-rap</td>\n",
       "      <td>72156.0</td>\n",
       "      <td>False</td>\n",
       "      <td>...</td>\n",
       "      <td>0</td>\n",
       "      <td>0</td>\n",
       "      <td>0</td>\n",
       "      <td>0</td>\n",
       "      <td>0</td>\n",
       "      <td>0</td>\n",
       "      <td>191</td>\n",
       "      <td>0</td>\n",
       "      <td>0</td>\n",
       "      <td>english speaking and nordic</td>\n",
       "    </tr>\n",
       "  </tbody>\n",
       "</table>\n",
       "<p>10 rows × 152 columns</p>\n",
       "</div>"
      ],
      "text/plain": [
       "                      Track_id     Country  \\\n",
       "47056   4axYWgXASdsCBHuwInAubT  Costa Rica   \n",
       "26511   2p8IUWQDrpjuFltbdgLOag       Spain   \n",
       "8963    7uzmGiiJyRfuViKKK3lVmR      France   \n",
       "78516   4QfNOZN7vrQCQKK1ZJ3XPb      Canada   \n",
       "104104  4RvS94Li3lohRtTSz5X3xZ     Austria   \n",
       "54704   6rAGFgcGtlIdYxlhDizXNo     Belgium   \n",
       "25263   3PEgB3fkiojxms35ntsTgs      Norway   \n",
       "150617  0KWnRv3wxjltYVB3MqjNd2    Malaysia   \n",
       "127207  3DN6Gss0WIEMXc1AvnrAA5       Spain   \n",
       "81082   5C0ivQMxes2lWuOANhvVAm     Austria   \n",
       "\n",
       "                                                      Uri  Popularity  \\\n",
       "47056   https://open.spotify.com/track/4axYWgXASdsCBHu...        42.4   \n",
       "26511   https://open.spotify.com/track/2p8IUWQDrpjuFlt...       218.4   \n",
       "8963    https://open.spotify.com/track/7uzmGiiJyRfuViK...      6502.5   \n",
       "78516   https://open.spotify.com/track/4QfNOZN7vrQCQKK...      8155.3   \n",
       "104104  https://open.spotify.com/track/4RvS94Li3lohRtT...      1582.0   \n",
       "54704   https://open.spotify.com/track/6rAGFgcGtlIdYxl...       373.3   \n",
       "25263   https://open.spotify.com/track/3PEgB3fkiojxms3...     30905.1   \n",
       "150617  https://open.spotify.com/track/0KWnRv3wxjltYVB...         5.6   \n",
       "127207  https://open.spotify.com/track/3DN6Gss0WIEMXc1...        72.0   \n",
       "81082   https://open.spotify.com/track/5C0ivQMxes2lWuO...        13.6   \n",
       "\n",
       "                          Title  \\\n",
       "47056            i don’t let go   \n",
       "26511               after hours   \n",
       "8963                       mine   \n",
       "78516                    heaven   \n",
       "104104                   lalala   \n",
       "54704   smash! - feat. pnb rock   \n",
       "25263        more than you know   \n",
       "150617              without you   \n",
       "127207               ay corazón   \n",
       "81082                    giants   \n",
       "\n",
       "                                                   Artist Album/Single  \\\n",
       "47056                                        XXXTENTACION        album   \n",
       "26511                                          The Weeknd        album   \n",
       "8963                                                Bazzi        album   \n",
       "78516                                      Julia Michaels       single   \n",
       "104104      Olexesh - Jala Brat - Buba Corelli - DJ Katch        album   \n",
       "54704                             XXXTENTACION - PnB Rock        album   \n",
       "25263                                  Axwell /\\ Ingrosso        album   \n",
       "150617                                            高爾宣 OSN        album   \n",
       "127207                                   Cali Y El Dandee       single   \n",
       "81082   True Damage - Becky G - Keke Palmer - SOYEON o...       single   \n",
       "\n",
       "                            Genre  Artist_followers  Explicit  ... Sweden  \\\n",
       "47056                     emo rap        22910410.0      True  ...      0   \n",
       "26511   canadian contemporary r&b        25562055.0     False  ...      0   \n",
       "8963                          pop         3807231.0      True  ...      0   \n",
       "78516                   dance pop         3285815.0     False  ...      0   \n",
       "104104        deep german hip hop          750077.0     False  ...      0   \n",
       "54704                     emo rap        22910410.0      True  ...      0   \n",
       "25263                    big room         2193315.0     False  ...      0   \n",
       "150617                   mandopop          139977.0     False  ...      0   \n",
       "127207                   champeta         2712454.0     False  ...      0   \n",
       "81082                       k-rap           72156.0     False  ...      0   \n",
       "\n",
       "       Switzerland  Taiwan  Turkey UK USA Popu_max Top10_dummy Top50_dummy  \\\n",
       "47056            0       0       0  0   0      148           0           0   \n",
       "26511            0       0       0  0   0      126           0           0   \n",
       "8963             0       0       0  0   0       48           0           1   \n",
       "78516            0       0       0  0   0       26           0           1   \n",
       "104104           0       0       0  0   0       50           0           1   \n",
       "54704            0       0       0  0   0       79           0           0   \n",
       "25263            0       0       0  0   0        4           1           1   \n",
       "150617           0       0       0  0   0      198           0           0   \n",
       "127207           0       0       0  0   0      148           0           0   \n",
       "81082            0       0       0  0   0      191           0           0   \n",
       "\n",
       "                                        Cluster  \n",
       "47056                          spanish speaking  \n",
       "26511                          spanish speaking  \n",
       "8963    southern europe and portuguese heritage  \n",
       "78516               english speaking and nordic  \n",
       "104104              english speaking and nordic  \n",
       "54704               english speaking and nordic  \n",
       "25263               english speaking and nordic  \n",
       "150617              english speaking and nordic  \n",
       "127207                         spanish speaking  \n",
       "81082               english speaking and nordic  \n",
       "\n",
       "[10 rows x 152 columns]"
      ]
     },
     "execution_count": 33,
     "metadata": {},
     "output_type": "execute_result"
    }
   ],
   "source": [
    "songs2 = pd.read_csv('./Final_database_Clean.csv')\n",
    "songs2.sample(10)"
   ]
  },
  {
   "cell_type": "code",
   "execution_count": 34,
   "id": "4b5e311e",
   "metadata": {
    "scrolled": true
   },
   "outputs": [
    {
     "name": "stdout",
     "output_type": "stream",
     "text": [
      "Initial secondary dataset has 170628 rows and 152 columns.\n"
     ]
    }
   ],
   "source": [
    "songs2.shape\n",
    "print(f'Initial secondary dataset has {songs2.shape[0]} rows and {songs2.shape[1]} columns.')"
   ]
  },
  {
   "cell_type": "code",
   "execution_count": 37,
   "id": "3df07649",
   "metadata": {
    "collapsed": true
   },
   "outputs": [
    {
     "data": {
      "text/plain": [
       "Track_id             object\n",
       "Country              object\n",
       "Uri                  object\n",
       "Popularity          float64\n",
       "Title                object\n",
       "Artist               object\n",
       "Album/Single         object\n",
       "Genre                object\n",
       "Artist_followers    float64\n",
       "Explicit               bool\n",
       "Album                object\n",
       "Release_date         object\n",
       "Track_number          int64\n",
       "Tracks_in_album       int64\n",
       "danceability         object\n",
       "energy               object\n",
       "key                  object\n",
       "loudness             object\n",
       "mode                 object\n",
       "speechiness          object\n",
       "acoustics            object\n",
       "instrumentalness     object\n",
       "liveliness           object\n",
       "valence              object\n",
       "tempo                object\n",
       "duration_ms          object\n",
       "time_signature       object\n",
       "Genre_new            object\n",
       "dtype: object"
      ]
     },
     "execution_count": 37,
     "metadata": {},
     "output_type": "execute_result"
    }
   ],
   "source": [
    "# Check data type of each relevant column\n",
    "songs2.iloc[0:,0:28].dtypes"
   ]
  },
  {
   "cell_type": "code",
   "execution_count": 38,
   "id": "6f4567c3",
   "metadata": {
    "scrolled": true
   },
   "outputs": [
    {
     "data": {
      "text/plain": [
       "Track_id             0\n",
       "Country              0\n",
       "Uri                  0\n",
       "Popularity           0\n",
       "Title                0\n",
       "Artist               0\n",
       "Album/Single         0\n",
       "Genre                0\n",
       "Artist_followers    41\n",
       "Explicit             0\n",
       "Album                0\n",
       "Release_date         0\n",
       "Track_number         0\n",
       "Tracks_in_album      0\n",
       "danceability         0\n",
       "energy               0\n",
       "key                  0\n",
       "loudness             0\n",
       "mode                 0\n",
       "speechiness          0\n",
       "acoustics            0\n",
       "instrumentalness     0\n",
       "liveliness           0\n",
       "valence              0\n",
       "tempo                0\n",
       "duration_ms          0\n",
       "time_signature       0\n",
       "Genre_new            0\n",
       "dtype: int64"
      ]
     },
     "execution_count": 38,
     "metadata": {},
     "output_type": "execute_result"
    }
   ],
   "source": [
    "# Check for null values\n",
    "songs2.iloc[0:,0:28].isnull().sum()"
   ]
  },
  {
   "cell_type": "code",
   "execution_count": 36,
   "id": "31919fb7",
   "metadata": {
    "scrolled": true
   },
   "outputs": [
    {
     "data": {
      "text/plain": [
       "Track_id                                       0usLRFLmYXYahKNgXxsuJc\n",
       "Country                                                        Global\n",
       "Uri                 https://open.spotify.com/track/0usLRFLmYXYahKN...\n",
       "Popularity                                                      183.7\n",
       "Title                                           trivia 起 : just dance\n",
       "Artist                                                            BTS\n",
       "Album/Single                                                    album\n",
       "Genre                                                           k-pop\n",
       "Artist_followers                                           24755789.0\n",
       "Explicit                                                        False\n",
       "Album                                        Love Yourself 結 'Answer'\n",
       "Release_date                                                8/24/2018\n",
       "Name: 279, dtype: object"
      ]
     },
     "execution_count": 36,
     "metadata": {},
     "output_type": "execute_result"
    }
   ],
   "source": [
    "# Check that nontraditional characters appear correctly in Python\n",
    "songs2.iloc[279,0:12]"
   ]
  },
  {
   "cell_type": "code",
   "execution_count": 40,
   "id": "d6248907",
   "metadata": {},
   "outputs": [
    {
     "name": "stdout",
     "output_type": "stream",
     "text": [
      "This dataset has 62419 unique songs.\n"
     ]
    }
   ],
   "source": [
    "print(f'This dataset has {songs2.Track_id.nunique()} unique songs.')"
   ]
  },
  {
   "cell_type": "markdown",
   "id": "681328cc",
   "metadata": {},
   "source": [
    "### Remove duplicate songs in Excel\n",
    "### Download new dataset with unique songs"
   ]
  },
  {
   "cell_type": "code",
   "execution_count": 43,
   "id": "f74d373e",
   "metadata": {},
   "outputs": [],
   "source": [
    "songs2 = pd.read_csv('./Final_database_Unique.csv')"
   ]
  },
  {
   "cell_type": "code",
   "execution_count": 44,
   "id": "07e558d0",
   "metadata": {},
   "outputs": [
    {
     "name": "stdout",
     "output_type": "stream",
     "text": [
      "Cleaned dataset has 62416 rows and 62416 uniques songs.\n"
     ]
    }
   ],
   "source": [
    "print(f'Cleaned dataset has {songs2.shape[0]} rows and {songs2.Track_id.nunique()} uniques songs.')"
   ]
  },
  {
   "cell_type": "code",
   "execution_count": 48,
   "id": "bbc0bd41",
   "metadata": {
    "collapsed": true
   },
   "outputs": [
    {
     "data": {
      "text/plain": [
       "Track_id             0\n",
       "Uri                  0\n",
       "Title                0\n",
       "Artist               0\n",
       "Album/Single         0\n",
       "Genre                0\n",
       "Artist_followers    35\n",
       "Explicit             0\n",
       "Album                0\n",
       "Release_date         0\n",
       "Track_number         0\n",
       "Tracks_in_album      0\n",
       "danceability         0\n",
       "energy               0\n",
       "key                  0\n",
       "loudness             0\n",
       "mode                 0\n",
       "speechiness          0\n",
       "acoustics            0\n",
       "instrumentalness     0\n",
       "liveliness           0\n",
       "valence              0\n",
       "tempo                0\n",
       "duration_ms          0\n",
       "time_signature       0\n",
       "Genre_new            0\n",
       "dtype: int64"
      ]
     },
     "execution_count": 48,
     "metadata": {},
     "output_type": "execute_result"
    }
   ],
   "source": [
    "#Check for null values\n",
    "songs2.iloc[0:,0:26].isnull().sum()"
   ]
  },
  {
   "cell_type": "code",
   "execution_count": 49,
   "id": "0b172bbf",
   "metadata": {
    "collapsed": true
   },
   "outputs": [
    {
     "data": {
      "text/plain": [
       "Track_id             object\n",
       "Uri                  object\n",
       "Title                object\n",
       "Artist               object\n",
       "Album/Single         object\n",
       "Genre                object\n",
       "Artist_followers    float64\n",
       "Explicit               bool\n",
       "Album                object\n",
       "Release_date         object\n",
       "Track_number          int64\n",
       "Tracks_in_album       int64\n",
       "danceability        float64\n",
       "energy              float64\n",
       "key                   int64\n",
       "loudness            float64\n",
       "mode                  int64\n",
       "speechiness         float64\n",
       "acoustics           float64\n",
       "instrumentalness    float64\n",
       "liveliness          float64\n",
       "valence             float64\n",
       "tempo               float64\n",
       "duration_ms           int64\n",
       "time_signature        int64\n",
       "Genre_new            object\n",
       "dtype: object"
      ]
     },
     "execution_count": 49,
     "metadata": {},
     "output_type": "execute_result"
    }
   ],
   "source": [
    "# Check data type of each column\n",
    "songs2.iloc[0:,0:26].dtypes"
   ]
  },
  {
   "cell_type": "code",
   "execution_count": 46,
   "id": "74cdacb0",
   "metadata": {
    "collapsed": true
   },
   "outputs": [
    {
     "data": {
      "text/plain": [
       "Track_id                                       0usLRFLmYXYahKNgXxsuJc\n",
       "Uri                 https://open.spotify.com/track/0usLRFLmYXYahKN...\n",
       "Title                                           trivia 起 : just dance\n",
       "Artist                                                            BTS\n",
       "Album/Single                                                    album\n",
       "Genre                                                           k-pop\n",
       "Artist_followers                                           24755789.0\n",
       "Explicit                                                        False\n",
       "Album                                        Love Yourself 結 'Answer'\n",
       "Release_date                                                8/24/2018\n",
       "Track_number                                                        2\n",
       "Tracks_in_album                                                    26\n",
       "Name: 2011, dtype: object"
      ]
     },
     "execution_count": 46,
     "metadata": {},
     "output_type": "execute_result"
    }
   ],
   "source": [
    "# Check that nontraditional characters appear correctly in Python\n",
    "songs2.iloc[2011,0:12]"
   ]
  },
  {
   "cell_type": "code",
   "execution_count": null,
   "id": "268f32c9",
   "metadata": {},
   "outputs": [],
   "source": []
  }
 ],
 "metadata": {
  "kernelspec": {
   "display_name": "Python 3 (ipykernel)",
   "language": "python",
   "name": "python3"
  },
  "language_info": {
   "codemirror_mode": {
    "name": "ipython",
    "version": 3
   },
   "file_extension": ".py",
   "mimetype": "text/x-python",
   "name": "python",
   "nbconvert_exporter": "python",
   "pygments_lexer": "ipython3",
   "version": "3.10.9"
  }
 },
 "nbformat": 4,
 "nbformat_minor": 5
}
