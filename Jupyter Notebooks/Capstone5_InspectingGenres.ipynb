{
 "cells": [
  {
   "cell_type": "markdown",
   "id": "400d452b",
   "metadata": {},
   "source": [
    "# Capstone Jupyter Notebook 5 - Inspecting Individual Genres"
   ]
  },
  {
   "cell_type": "code",
   "execution_count": 1,
   "id": "37990420",
   "metadata": {},
   "outputs": [],
   "source": [
    "import pandas as pd\n",
    "import numpy as np\n",
    "import seaborn as sns\n",
    "import matplotlib.pyplot as plt\n",
    "\n",
    "from sklearn.model_selection import train_test_split\n",
    "from sklearn.linear_model import LinearRegression\n",
    "from sklearn.ensemble import RandomForestRegressor\n",
    "from sklearn.neighbors import KNeighborsRegressor\n",
    "from sklearn.metrics import mean_squared_error\n",
    "\n",
    "%matplotlib inline\n",
    "\n",
    "plt.rcParams['figure.figsize'] = (8, 6)\n",
    "plt.rcParams['font.size'] = 14"
   ]
  },
  {
   "cell_type": "markdown",
   "id": "8ded6c25",
   "metadata": {},
   "source": [
    "### Add genre to the main dataset by left-joining it on the song track id with a dataset that includes genres. The new set includes all the songs in the main dataset; songs from the other set will not be added. If a song from the main table doesn't match any song in the other table, its genre is left blank."
   ]
  },
  {
   "cell_type": "code",
   "execution_count": 2,
   "id": "d720fc63",
   "metadata": {},
   "outputs": [],
   "source": [
    "songs1 = pd.read_csv('./Spotify_Youtube_Clean.csv', index_col='ID')\n",
    "songs2 = pd.read_csv('./Final_database_Unique.csv')"
   ]
  },
  {
   "cell_type": "code",
   "execution_count": 3,
   "id": "c2d1e21b",
   "metadata": {},
   "outputs": [],
   "source": [
    "songs_merged = pd.merge(songs1, songs2, how='left', on='Track_id')"
   ]
  },
  {
   "cell_type": "markdown",
   "id": "f33163eb",
   "metadata": {},
   "source": [
    "### Save the new table to a CSV file. It will be opened in Excel, where more genres can be added, unnecessary columns can be dropped, and duplicate songs can be removed."
   ]
  },
  {
   "cell_type": "code",
   "execution_count": 4,
   "id": "f1049503",
   "metadata": {},
   "outputs": [],
   "source": [
    "songs_merged.to_csv('Combined_Tables.csv')"
   ]
  },
  {
   "cell_type": "markdown",
   "id": "5185ee38",
   "metadata": {},
   "source": [
    "### Download the cleaned dataset"
   ]
  },
  {
   "cell_type": "code",
   "execution_count": 4,
   "id": "df0340da",
   "metadata": {},
   "outputs": [],
   "source": [
    "songs = pd.read_csv('Spotify_Youtube_Genre_Unique.csv', index_col='ID')"
   ]
  },
  {
   "cell_type": "code",
   "execution_count": 5,
   "id": "aa2add8d",
   "metadata": {
    "scrolled": true
   },
   "outputs": [
    {
     "data": {
      "text/plain": [
       "(11695, 11695)"
      ]
     },
     "execution_count": 5,
     "metadata": {},
     "output_type": "execute_result"
    }
   ],
   "source": [
    "songs.Track_id.nunique(), songs.shape[0]"
   ]
  },
  {
   "cell_type": "code",
   "execution_count": 6,
   "id": "85bc8942",
   "metadata": {
    "collapsed": true
   },
   "outputs": [
    {
     "data": {
      "text/plain": [
       "Track                 0\n",
       "Artist                0\n",
       "Track_id              0\n",
       "Url_spotify           0\n",
       "Album                 0\n",
       "Album_type            0\n",
       "Uri                   0\n",
       "Genre_spotify         0\n",
       "Genre                 0\n",
       "Danceability          0\n",
       "Energy                0\n",
       "Key                   0\n",
       "Loudness              0\n",
       "Speechiness           0\n",
       "Acousticness          0\n",
       "Instrumentalness      0\n",
       "Liveness              0\n",
       "Valence               0\n",
       "Tempo                 0\n",
       "Duration_ms           0\n",
       "Stream              254\n",
       "Url_youtube         220\n",
       "Title               220\n",
       "Channel             220\n",
       "Views               220\n",
       "Likes               255\n",
       "Comments            276\n",
       "Description         427\n",
       "Licensed            220\n",
       "official_video      220\n",
       "dtype: int64"
      ]
     },
     "execution_count": 6,
     "metadata": {},
     "output_type": "execute_result"
    }
   ],
   "source": [
    "songs.isnull().sum()"
   ]
  },
  {
   "cell_type": "code",
   "execution_count": 7,
   "id": "fc37a49c",
   "metadata": {
    "scrolled": true
   },
   "outputs": [
    {
     "name": "stdout",
     "output_type": "stream",
     "text": [
      "['Url_youtube', 'Title', 'Channel', 'Views', 'Likes', 'Comments', 'Description', 'Licensed', 'official_video']\n"
     ]
    }
   ],
   "source": [
    "drop_columns = list(songs.columns[-9:])\n",
    "print(drop_columns)"
   ]
  },
  {
   "cell_type": "code",
   "execution_count": 8,
   "id": "b192fd4e",
   "metadata": {
    "collapsed": true
   },
   "outputs": [
    {
     "data": {
      "text/plain": [
       "0     1392\n",
       "7     1234\n",
       "1     1220\n",
       "2     1125\n",
       "9     1101\n",
       "5      994\n",
       "11     947\n",
       "8      853\n",
       "4      845\n",
       "6      824\n",
       "10     806\n",
       "3      354\n",
       "Name: Key, dtype: int64"
      ]
     },
     "execution_count": 8,
     "metadata": {},
     "output_type": "execute_result"
    }
   ],
   "source": [
    "songs.Key.value_counts()"
   ]
  },
  {
   "cell_type": "markdown",
   "id": "680eabe2",
   "metadata": {},
   "source": [
    "### Replace the `Key` column with dummy columns, and drop `Key_0` because it the most common key."
   ]
  },
  {
   "cell_type": "code",
   "execution_count": 9,
   "id": "f06247d8",
   "metadata": {
    "scrolled": true
   },
   "outputs": [
    {
     "data": {
      "text/plain": [
       "Index(['Track', 'Artist', 'Track_id', 'Url_spotify', 'Album', 'Album_type',\n",
       "       'Uri', 'Genre_spotify', 'Genre', 'Danceability', 'Energy', 'Loudness',\n",
       "       'Speechiness', 'Acousticness', 'Instrumentalness', 'Liveness',\n",
       "       'Valence', 'Tempo', 'Duration_ms', 'Stream', 'Url_youtube', 'Title',\n",
       "       'Channel', 'Views', 'Likes', 'Comments', 'Description', 'Licensed',\n",
       "       'official_video', 'Key_1', 'Key_2', 'Key_3', 'Key_4', 'Key_5', 'Key_6',\n",
       "       'Key_7', 'Key_8', 'Key_9', 'Key_10', 'Key_11'],\n",
       "      dtype='object')"
      ]
     },
     "execution_count": 9,
     "metadata": {},
     "output_type": "execute_result"
    }
   ],
   "source": [
    "key_dummies = pd.get_dummies(songs.Key, prefix='Key', drop_first=True)\n",
    "songs = pd.concat([songs, key_dummies], axis=1)\n",
    "songs.drop('Key', axis=1, inplace=True)\n",
    "songs.columns"
   ]
  },
  {
   "cell_type": "code",
   "execution_count": 10,
   "id": "0b637d4d",
   "metadata": {
    "collapsed": true
   },
   "outputs": [
    {
     "data": {
      "text/plain": [
       "pop                 3191\n",
       "rock                1446\n",
       "latin               1423\n",
       "hip hop             1264\n",
       "else                1010\n",
       "indie                482\n",
       "rap                  417\n",
       "dance/electronic     393\n",
       "metal                380\n",
       "country              354\n",
       "r&b/soul             345\n",
       "k-pop                238\n",
       "funk                 216\n",
       "house                177\n",
       "boy band              89\n",
       "reggaeton             69\n",
       "reggae                60\n",
       "trap                  43\n",
       "opm                   40\n",
       "jazz                  39\n",
       "bolero                19\n",
       "Name: Genre, dtype: int64"
      ]
     },
     "execution_count": 10,
     "metadata": {},
     "output_type": "execute_result"
    }
   ],
   "source": [
    "songs.Genre.value_counts()"
   ]
  },
  {
   "cell_type": "markdown",
   "id": "f94a1105",
   "metadata": {},
   "source": [
    "### Add dummy columns for each genre, and drop `Genre_pop` because it the most common genre. Leave the original `Genre` column because it will still be needed later."
   ]
  },
  {
   "cell_type": "code",
   "execution_count": 37,
   "id": "4144df37",
   "metadata": {},
   "outputs": [],
   "source": [
    "genre_dummies = pd.get_dummies(songs.Genre, prefix='Genre')\n",
    "songs = pd.concat([songs, genre_dummies], axis=1)\n",
    "songs.drop('Genre_pop', axis=1, inplace=True)"
   ]
  },
  {
   "cell_type": "code",
   "execution_count": 12,
   "id": "00484f6a",
   "metadata": {
    "collapsed": true
   },
   "outputs": [
    {
     "data": {
      "text/plain": [
       "Track                       0\n",
       "Artist                      0\n",
       "Track_id                    0\n",
       "Url_spotify                 0\n",
       "Album                       0\n",
       "Album_type                  0\n",
       "Uri                         0\n",
       "Genre_spotify               0\n",
       "Genre                       0\n",
       "Danceability                0\n",
       "Energy                      0\n",
       "Loudness                    0\n",
       "Speechiness                 0\n",
       "Acousticness                0\n",
       "Instrumentalness            0\n",
       "Liveness                    0\n",
       "Valence                     0\n",
       "Tempo                       0\n",
       "Duration_ms                 0\n",
       "Stream                    254\n",
       "Url_youtube               220\n",
       "Title                     220\n",
       "Channel                   220\n",
       "Views                     220\n",
       "Likes                     255\n",
       "Comments                  276\n",
       "Description               427\n",
       "Licensed                  220\n",
       "official_video            220\n",
       "Key_1                       0\n",
       "Key_2                       0\n",
       "Key_3                       0\n",
       "Key_4                       0\n",
       "Key_5                       0\n",
       "Key_6                       0\n",
       "Key_7                       0\n",
       "Key_8                       0\n",
       "Key_9                       0\n",
       "Key_10                      0\n",
       "Key_11                      0\n",
       "Genre_bolero                0\n",
       "Genre_boy band              0\n",
       "Genre_country               0\n",
       "Genre_dance/electronic      0\n",
       "Genre_else                  0\n",
       "Genre_funk                  0\n",
       "Genre_hip hop               0\n",
       "Genre_house                 0\n",
       "Genre_indie                 0\n",
       "Genre_jazz                  0\n",
       "Genre_k-pop                 0\n",
       "Genre_latin                 0\n",
       "Genre_metal                 0\n",
       "Genre_opm                   0\n",
       "Genre_r&b/soul              0\n",
       "Genre_rap                   0\n",
       "Genre_reggae                0\n",
       "Genre_reggaeton             0\n",
       "Genre_rock                  0\n",
       "Genre_trap                  0\n",
       "dtype: int64"
      ]
     },
     "execution_count": 12,
     "metadata": {},
     "output_type": "execute_result"
    }
   ],
   "source": [
    "songs.isnull().sum()"
   ]
  },
  {
   "cell_type": "code",
   "execution_count": 13,
   "id": "9a2bfa7c",
   "metadata": {
    "collapsed": true
   },
   "outputs": [
    {
     "data": {
      "text/plain": [
       "Track                     0\n",
       "Artist                    0\n",
       "Track_id                  0\n",
       "Url_spotify               0\n",
       "Album                     0\n",
       "Album_type                0\n",
       "Uri                       0\n",
       "Genre_spotify             0\n",
       "Genre                     0\n",
       "Danceability              0\n",
       "Energy                    0\n",
       "Loudness                  0\n",
       "Speechiness               0\n",
       "Acousticness              0\n",
       "Instrumentalness          0\n",
       "Liveness                  0\n",
       "Valence                   0\n",
       "Tempo                     0\n",
       "Duration_ms               0\n",
       "Stream                    0\n",
       "Key_1                     0\n",
       "Key_2                     0\n",
       "Key_3                     0\n",
       "Key_4                     0\n",
       "Key_5                     0\n",
       "Key_6                     0\n",
       "Key_7                     0\n",
       "Key_8                     0\n",
       "Key_9                     0\n",
       "Key_10                    0\n",
       "Key_11                    0\n",
       "Genre_bolero              0\n",
       "Genre_boy band            0\n",
       "Genre_country             0\n",
       "Genre_dance/electronic    0\n",
       "Genre_else                0\n",
       "Genre_funk                0\n",
       "Genre_hip hop             0\n",
       "Genre_house               0\n",
       "Genre_indie               0\n",
       "Genre_jazz                0\n",
       "Genre_k-pop               0\n",
       "Genre_latin               0\n",
       "Genre_metal               0\n",
       "Genre_opm                 0\n",
       "Genre_r&b/soul            0\n",
       "Genre_rap                 0\n",
       "Genre_reggae              0\n",
       "Genre_reggaeton           0\n",
       "Genre_rock                0\n",
       "Genre_trap                0\n",
       "dtype: int64"
      ]
     },
     "execution_count": 13,
     "metadata": {},
     "output_type": "execute_result"
    }
   ],
   "source": [
    "songs_streams = pd.DataFrame(songs.dropna(subset=['Stream']))\n",
    "songs_streams.drop(list(songs_streams.columns[20:29]), axis=1, inplace=True)\n",
    "songs_streams.isnull().sum()"
   ]
  },
  {
   "cell_type": "code",
   "execution_count": 38,
   "id": "c2214019",
   "metadata": {
    "collapsed": true
   },
   "outputs": [
    {
     "data": {
      "text/plain": [
       "Track                      object\n",
       "Artist                     object\n",
       "Track_id                   object\n",
       "Url_spotify                object\n",
       "Album                      object\n",
       "Album_type                 object\n",
       "Uri                        object\n",
       "Genre_spotify              object\n",
       "Genre                      object\n",
       "Danceability              float64\n",
       "Energy                    float64\n",
       "Loudness                  float64\n",
       "Speechiness               float64\n",
       "Acousticness              float64\n",
       "Instrumentalness          float64\n",
       "Liveness                  float64\n",
       "Valence                   float64\n",
       "Tempo                     float64\n",
       "Duration_ms                 int64\n",
       "Stream                      int64\n",
       "Key_1                       uint8\n",
       "Key_2                       uint8\n",
       "Key_3                       uint8\n",
       "Key_4                       uint8\n",
       "Key_5                       uint8\n",
       "Key_6                       uint8\n",
       "Key_7                       uint8\n",
       "Key_8                       uint8\n",
       "Key_9                       uint8\n",
       "Key_10                      uint8\n",
       "Key_11                      uint8\n",
       "Genre_bolero                uint8\n",
       "Genre_boy band              uint8\n",
       "Genre_country               uint8\n",
       "Genre_dance/electronic      uint8\n",
       "Genre_else                  uint8\n",
       "Genre_funk                  uint8\n",
       "Genre_hip hop               uint8\n",
       "Genre_house                 uint8\n",
       "Genre_indie                 uint8\n",
       "Genre_jazz                  uint8\n",
       "Genre_k-pop                 uint8\n",
       "Genre_latin                 uint8\n",
       "Genre_metal                 uint8\n",
       "Genre_opm                   uint8\n",
       "Genre_r&b/soul              uint8\n",
       "Genre_rap                   uint8\n",
       "Genre_reggae                uint8\n",
       "Genre_reggaeton             uint8\n",
       "Genre_rock                  uint8\n",
       "Genre_trap                  uint8\n",
       "dtype: object"
      ]
     },
     "execution_count": 38,
     "metadata": {},
     "output_type": "execute_result"
    }
   ],
   "source": [
    "songs_streams.dtypes"
   ]
  },
  {
   "cell_type": "code",
   "execution_count": 15,
   "id": "4502f731",
   "metadata": {
    "collapsed": true
   },
   "outputs": [
    {
     "data": {
      "text/plain": [
       "Track                      object\n",
       "Artist                     object\n",
       "Track_id                   object\n",
       "Url_spotify                object\n",
       "Album                      object\n",
       "Album_type                 object\n",
       "Uri                        object\n",
       "Genre_spotify              object\n",
       "Genre                      object\n",
       "Danceability              float64\n",
       "Energy                    float64\n",
       "Loudness                  float64\n",
       "Speechiness               float64\n",
       "Acousticness              float64\n",
       "Instrumentalness          float64\n",
       "Liveness                  float64\n",
       "Valence                   float64\n",
       "Tempo                     float64\n",
       "Duration_ms                 int64\n",
       "Stream                      int64\n",
       "Key_1                       uint8\n",
       "Key_2                       uint8\n",
       "Key_3                       uint8\n",
       "Key_4                       uint8\n",
       "Key_5                       uint8\n",
       "Key_6                       uint8\n",
       "Key_7                       uint8\n",
       "Key_8                       uint8\n",
       "Key_9                       uint8\n",
       "Key_10                      uint8\n",
       "Key_11                      uint8\n",
       "Genre_bolero                uint8\n",
       "Genre_boy band              uint8\n",
       "Genre_country               uint8\n",
       "Genre_dance/electronic      uint8\n",
       "Genre_else                  uint8\n",
       "Genre_funk                  uint8\n",
       "Genre_hip hop               uint8\n",
       "Genre_house                 uint8\n",
       "Genre_indie                 uint8\n",
       "Genre_jazz                  uint8\n",
       "Genre_k-pop                 uint8\n",
       "Genre_latin                 uint8\n",
       "Genre_metal                 uint8\n",
       "Genre_opm                   uint8\n",
       "Genre_r&b/soul              uint8\n",
       "Genre_rap                   uint8\n",
       "Genre_reggae                uint8\n",
       "Genre_reggaeton             uint8\n",
       "Genre_rock                  uint8\n",
       "Genre_trap                  uint8\n",
       "dtype: object"
      ]
     },
     "execution_count": 15,
     "metadata": {},
     "output_type": "execute_result"
    }
   ],
   "source": [
    "# Change Stream data type to int64. (int (int32) is not large enough.)\n",
    "songs_streams['Stream'] = (songs_streams.Stream).astype('int64')\n",
    "songs_streams.dtypes"
   ]
  },
  {
   "cell_type": "markdown",
   "id": "b62409f0",
   "metadata": {},
   "source": [
    "### This function takes a DataFrame, a list of input columns, and a regression type as inputs, creates a model to predict the number of streams a song has, and returns the RMSE of the model."
   ]
  },
  {
   "cell_type": "code",
   "execution_count": 16,
   "id": "7b1a5370",
   "metadata": {},
   "outputs": [],
   "source": [
    "def get_rmse(df, x_cols, y_col, reg):\n",
    "    X = df[x_cols]\n",
    "    y = df[y_col]\n",
    "    \n",
    "    X_train, X_test, y_train, y_test = train_test_split(X, y, random_state=1)\n",
    "    \n",
    "    reg.fit(X_train, y_train)\n",
    "    \n",
    "    preds = reg.predict(X_test)\n",
    "    return np.sqrt(mean_squared_error(y_test, preds))"
   ]
  },
  {
   "cell_type": "code",
   "execution_count": 17,
   "id": "a0ed52c8",
   "metadata": {},
   "outputs": [],
   "source": [
    "# Three regression types in the scikit-learn library\n",
    "lin_reg = LinearRegression()\n",
    "rand_for_reg = RandomForestRegressor()\n",
    "kn_reg = KNeighborsRegressor()"
   ]
  },
  {
   "cell_type": "code",
   "execution_count": 18,
   "id": "6831c985",
   "metadata": {
    "collapsed": true
   },
   "outputs": [
    {
     "data": {
      "text/plain": [
       "['Danceability',\n",
       " 'Energy',\n",
       " 'Loudness',\n",
       " 'Speechiness',\n",
       " 'Acousticness',\n",
       " 'Instrumentalness',\n",
       " 'Liveness',\n",
       " 'Valence',\n",
       " 'Tempo',\n",
       " 'Duration_ms',\n",
       " 'Key_1',\n",
       " 'Key_2',\n",
       " 'Key_3',\n",
       " 'Key_4',\n",
       " 'Key_5',\n",
       " 'Key_6',\n",
       " 'Key_7',\n",
       " 'Key_8',\n",
       " 'Key_9',\n",
       " 'Key_10',\n",
       " 'Key_11',\n",
       " 'Genre_bolero',\n",
       " 'Genre_boy band',\n",
       " 'Genre_country',\n",
       " 'Genre_dance/electronic',\n",
       " 'Genre_else',\n",
       " 'Genre_funk',\n",
       " 'Genre_hip hop',\n",
       " 'Genre_house',\n",
       " 'Genre_indie',\n",
       " 'Genre_jazz',\n",
       " 'Genre_k-pop',\n",
       " 'Genre_latin',\n",
       " 'Genre_metal',\n",
       " 'Genre_opm',\n",
       " 'Genre_r&b/soul',\n",
       " 'Genre_rap',\n",
       " 'Genre_reggae',\n",
       " 'Genre_reggaeton',\n",
       " 'Genre_rock',\n",
       " 'Genre_trap']"
      ]
     },
     "execution_count": 18,
     "metadata": {},
     "output_type": "execute_result"
    }
   ],
   "source": [
    "feature_columns = list(songs_streams.describe().columns)\n",
    "feature_columns.remove('Stream')\n",
    "feature_columns"
   ]
  },
  {
   "cell_type": "markdown",
   "id": "1c3a7a13",
   "metadata": {},
   "source": [
    "### Use the average number of streams in the test data as a baseline"
   ]
  },
  {
   "cell_type": "code",
   "execution_count": 19,
   "id": "9f083fb3",
   "metadata": {},
   "outputs": [
    {
     "name": "stdout",
     "output_type": "stream",
     "text": [
      "Average number of streams in test data = 183072091\n"
     ]
    }
   ],
   "source": [
    "X = songs_streams[feature_columns]\n",
    "y = songs_streams.Stream\n",
    "\n",
    "X_train, X_test, y_train, y_test = train_test_split(X, y, random_state=1)\n",
    "\n",
    "y_test_mean = y_test.mean()\n",
    "print('Average number of streams in test data =', round(y_test_mean))"
   ]
  },
  {
   "cell_type": "code",
   "execution_count": 20,
   "id": "add0106e",
   "metadata": {},
   "outputs": [
    {
     "name": "stdout",
     "output_type": "stream",
     "text": [
      "Baseline RMSE = 284295332\n"
     ]
    }
   ],
   "source": [
    "baseline_series = [y_test_mean] * len(y_test)\n",
    "baseline_rmse = np.sqrt(mean_squared_error(y_test, baseline_series))\n",
    "best_rmse = baseline_rmse\n",
    "print('Baseline RMSE =', round(best_rmse))"
   ]
  },
  {
   "cell_type": "code",
   "execution_count": 21,
   "id": "0d5555d2",
   "metadata": {},
   "outputs": [],
   "source": [
    "# This function returns and prints the smaller RMSE.\n",
    "def new_best_rmse(rmse_new, rmse_old):\n",
    "    print('RMSE for this model =', round(rmse_new))\n",
    "    if rmse_new < rmse_old:\n",
    "        print('This is now the best RMSE.')\n",
    "        return rmse_new\n",
    "    print('The best RMSE is still', round(rmse_old))\n",
    "    return rmse_old"
   ]
  },
  {
   "cell_type": "code",
   "execution_count": 22,
   "id": "128ec353",
   "metadata": {},
   "outputs": [
    {
     "name": "stdout",
     "output_type": "stream",
     "text": [
      "RMSE for this model = 277822397\n",
      "This is now the best RMSE.\n"
     ]
    }
   ],
   "source": [
    "rmse = get_rmse(songs_streams, feature_columns, 'Stream', lin_reg)\n",
    "best_rmse = new_best_rmse(rmse, best_rmse)"
   ]
  },
  {
   "cell_type": "code",
   "execution_count": 23,
   "id": "a1ccd64d",
   "metadata": {},
   "outputs": [
    {
     "name": "stdout",
     "output_type": "stream",
     "text": [
      "RMSE for this model = 282857434\n",
      "The best RMSE is still 277822397\n"
     ]
    }
   ],
   "source": [
    "rmse = get_rmse(songs_streams, feature_columns, 'Stream', rand_for_reg)\n",
    "best_rmse = new_best_rmse(rmse, best_rmse)"
   ]
  },
  {
   "cell_type": "code",
   "execution_count": 24,
   "id": "653c0725",
   "metadata": {},
   "outputs": [
    {
     "name": "stdout",
     "output_type": "stream",
     "text": [
      "RMSE for this model = 305169985\n",
      "The best RMSE is still 277822397\n"
     ]
    }
   ],
   "source": [
    "rmse = get_rmse(songs_streams, feature_columns, 'Stream', kn_reg)\n",
    "best_rmse = new_best_rmse(rmse, best_rmse)"
   ]
  },
  {
   "cell_type": "code",
   "execution_count": 25,
   "id": "df0998a6",
   "metadata": {},
   "outputs": [
    {
     "name": "stdout",
     "output_type": "stream",
     "text": [
      "RMSE for this model = 283659490\n",
      "The best RMSE is still 277822397\n"
     ]
    }
   ],
   "source": [
    "kn_reg = KNeighborsRegressor(n_neighbors=50)\n",
    "rmse = get_rmse(songs_streams, feature_columns, 'Stream', kn_reg)\n",
    "best_rmse = new_best_rmse(rmse, best_rmse)"
   ]
  },
  {
   "cell_type": "code",
   "execution_count": 26,
   "id": "30d85ef3",
   "metadata": {},
   "outputs": [
    {
     "name": "stdout",
     "output_type": "stream",
     "text": [
      "RMSE for this model = 231250408\n",
      "This is now the best RMSE.\n"
     ]
    },
    {
     "name": "stderr",
     "output_type": "stream",
     "text": [
      "C:\\Users\\Andrew Vieira\\AppData\\Local\\Temp\\ipykernel_28688\\260271955.py:1: UserWarning: Boolean Series key will be reindexed to match DataFrame index.\n",
      "  songs2 = songs_streams[(songs_streams.Stream < 1.5e9) & (songs.Tempo > 0) & (songs.Tempo < 230)]\n"
     ]
    }
   ],
   "source": [
    "songs2 = songs_streams[(songs_streams.Stream < 1.5e9) & (songs.Tempo > 0) & (songs.Tempo < 230)]\n",
    "rmse = get_rmse(songs2, feature_columns, 'Stream', lin_reg)\n",
    "best_rmse = new_best_rmse(rmse, best_rmse)"
   ]
  },
  {
   "cell_type": "markdown",
   "id": "60882412",
   "metadata": {},
   "source": [
    "### The best model is a linear regression with some outliers removed and the genre included."
   ]
  },
  {
   "cell_type": "code",
   "execution_count": 27,
   "id": "19d3d630",
   "metadata": {},
   "outputs": [
    {
     "data": {
      "text/plain": [
       "['Danceability',\n",
       " 'Energy',\n",
       " 'Loudness',\n",
       " 'Speechiness',\n",
       " 'Acousticness',\n",
       " 'Instrumentalness',\n",
       " 'Liveness',\n",
       " 'Valence',\n",
       " 'Tempo',\n",
       " 'Duration_ms',\n",
       " 'Key_1',\n",
       " 'Key_2',\n",
       " 'Key_3',\n",
       " 'Key_4',\n",
       " 'Key_5',\n",
       " 'Key_6',\n",
       " 'Key_7',\n",
       " 'Key_8',\n",
       " 'Key_9',\n",
       " 'Key_10',\n",
       " 'Key_11']"
      ]
     },
     "execution_count": 27,
     "metadata": {},
     "output_type": "execute_result"
    }
   ],
   "source": [
    "feature_columns_2 = feature_columns[0:21]\n",
    "feature_columns_2"
   ]
  },
  {
   "cell_type": "code",
   "execution_count": 28,
   "id": "4a43cce6",
   "metadata": {
    "scrolled": true
   },
   "outputs": [
    {
     "name": "stdout",
     "output_type": "stream",
     "text": [
      "RMSE for this model = 234341760\n",
      "The best RMSE is still 231250408\n"
     ]
    }
   ],
   "source": [
    "rmse = get_rmse(songs2, feature_columns_2, 'Stream', lin_reg)\n",
    "best_rmse = new_best_rmse(rmse, best_rmse)"
   ]
  },
  {
   "cell_type": "code",
   "execution_count": 29,
   "id": "5526fa0c",
   "metadata": {},
   "outputs": [
    {
     "data": {
      "text/plain": [
       "1.32"
      ]
     },
     "execution_count": 29,
     "metadata": {},
     "output_type": "execute_result"
    }
   ],
   "source": [
    "round(100 * (rmse - best_rmse) / rmse, 2)"
   ]
  },
  {
   "cell_type": "markdown",
   "id": "0d0d1ef7",
   "metadata": {},
   "source": [
    "### A regression with genres has a smaller RMSE that one without genres using the same dataset, but by only 1.32%"
   ]
  },
  {
   "cell_type": "markdown",
   "id": "6d3b9125",
   "metadata": {},
   "source": [
    "### Now separate the data into different sets based on genre and create a linear regresion model for each set."
   ]
  },
  {
   "cell_type": "code",
   "execution_count": 30,
   "id": "3eda15a3",
   "metadata": {
    "scrolled": true
   },
   "outputs": [
    {
     "data": {
      "text/plain": [
       "array(['bolero', 'boy band', 'country', 'dance/electronic', 'else',\n",
       "       'funk', 'hip hop', 'house', 'indie', 'jazz', 'k-pop', 'latin',\n",
       "       'metal', 'opm', 'pop', 'r&b/soul', 'rap', 'reggae', 'reggaeton',\n",
       "       'rock', 'trap'], dtype=object)"
      ]
     },
     "execution_count": 30,
     "metadata": {},
     "output_type": "execute_result"
    }
   ],
   "source": [
    "genres = np.sort(songs2.Genre.unique())\n",
    "genres"
   ]
  },
  {
   "cell_type": "code",
   "execution_count": 36,
   "id": "201c2a42",
   "metadata": {
    "collapsed": true
   },
   "outputs": [
    {
     "name": "stderr",
     "output_type": "stream",
     "text": [
      "C:\\Users\\Andrew Vieira\\AppData\\Local\\Temp\\ipykernel_28688\\2950062750.py:2: UserWarning: Boolean Series key will be reindexed to match DataFrame index.\n",
      "  song_genre = songs2[songs.Genre == genre]\n",
      "C:\\Users\\Andrew Vieira\\AppData\\Local\\Temp\\ipykernel_28688\\2950062750.py:2: UserWarning: Boolean Series key will be reindexed to match DataFrame index.\n",
      "  song_genre = songs2[songs.Genre == genre]\n",
      "C:\\Users\\Andrew Vieira\\AppData\\Local\\Temp\\ipykernel_28688\\2950062750.py:2: UserWarning: Boolean Series key will be reindexed to match DataFrame index.\n",
      "  song_genre = songs2[songs.Genre == genre]\n",
      "C:\\Users\\Andrew Vieira\\AppData\\Local\\Temp\\ipykernel_28688\\2950062750.py:2: UserWarning: Boolean Series key will be reindexed to match DataFrame index.\n",
      "  song_genre = songs2[songs.Genre == genre]\n",
      "C:\\Users\\Andrew Vieira\\AppData\\Local\\Temp\\ipykernel_28688\\2950062750.py:2: UserWarning: Boolean Series key will be reindexed to match DataFrame index.\n",
      "  song_genre = songs2[songs.Genre == genre]\n",
      "C:\\Users\\Andrew Vieira\\AppData\\Local\\Temp\\ipykernel_28688\\2950062750.py:2: UserWarning: Boolean Series key will be reindexed to match DataFrame index.\n",
      "  song_genre = songs2[songs.Genre == genre]\n",
      "C:\\Users\\Andrew Vieira\\AppData\\Local\\Temp\\ipykernel_28688\\2950062750.py:2: UserWarning: Boolean Series key will be reindexed to match DataFrame index.\n",
      "  song_genre = songs2[songs.Genre == genre]\n",
      "C:\\Users\\Andrew Vieira\\AppData\\Local\\Temp\\ipykernel_28688\\2950062750.py:2: UserWarning: Boolean Series key will be reindexed to match DataFrame index.\n",
      "  song_genre = songs2[songs.Genre == genre]\n",
      "C:\\Users\\Andrew Vieira\\AppData\\Local\\Temp\\ipykernel_28688\\2950062750.py:2: UserWarning: Boolean Series key will be reindexed to match DataFrame index.\n",
      "  song_genre = songs2[songs.Genre == genre]\n",
      "C:\\Users\\Andrew Vieira\\AppData\\Local\\Temp\\ipykernel_28688\\2950062750.py:2: UserWarning: Boolean Series key will be reindexed to match DataFrame index.\n",
      "  song_genre = songs2[songs.Genre == genre]\n",
      "C:\\Users\\Andrew Vieira\\AppData\\Local\\Temp\\ipykernel_28688\\2950062750.py:2: UserWarning: Boolean Series key will be reindexed to match DataFrame index.\n",
      "  song_genre = songs2[songs.Genre == genre]\n",
      "C:\\Users\\Andrew Vieira\\AppData\\Local\\Temp\\ipykernel_28688\\2950062750.py:2: UserWarning: Boolean Series key will be reindexed to match DataFrame index.\n",
      "  song_genre = songs2[songs.Genre == genre]\n"
     ]
    },
    {
     "name": "stdout",
     "output_type": "stream",
     "text": [
      "bolero:    \t18 songs,\tRMSE = 130292944,\t43.66% better than best RSME\n",
      "boy band:    \t89 songs,\tRMSE = 183340415,\t20.72% better than best RSME\n",
      "country:    \t354 songs,\tRMSE = 138432146,\t40.14% better than best RSME\n",
      "dance/electronic:    \t373 songs,\tRMSE = 188574379,\t18.45% better than best RSME\n",
      "else:    \t958 songs,\tRMSE = 126107412,\t45.47% better than best RSME\n",
      "funk:    \t211 songs,\tRMSE = 110805127,\t52.08% better than best RSME\n",
      "hip hop:    \t1251 songs,\tRMSE = 226590448,\t2.02% better than best RSME\n",
      "house:    \t166 songs,\tRMSE = 328642424,\t-42.12% better than best RSME\n",
      "indie:    \t473 songs,\tRMSE = 251371125,\t-8.7% better than best RSME\n",
      "jazz:    \t39 songs,\tRMSE = 141777413,\t38.69% better than best RSME\n",
      "k-pop:    \t233 songs,\tRMSE = 182343920,\t21.15% better than best RSME\n",
      "latin:    \t1397 songs,\tRMSE = 147609993,\t36.17% better than best RSME\n",
      "metal:    \t375 songs,\tRMSE = 199992892,\t13.52% better than best RSME\n",
      "opm:    \t40 songs,\tRMSE = 72916273,\t68.47% better than best RSME\n",
      "pop:    \t3098 songs,\tRMSE = 276357991,\t-19.51% better than best RSME\n",
      "r&b/soul:    \t339 songs,\tRMSE = 240699346,\t-4.09% better than best RSME\n",
      "rap:    \t399 songs,\tRMSE = 292259341,\t-26.38% better than best RSME\n",
      "reggae:    \t60 songs,\tRMSE = 220312459,\t4.73% better than best RSME\n",
      "reggaeton:    \t69 songs,\tRMSE = 456886003,\t-97.57% better than best RSME\n",
      "rock:    \t1363 songs,\tRMSE = 246550667,\t-6.62% better than best RSME\n",
      "trap:    \t42 songs,\tRMSE = 305542111,\t-32.13% better than best RSME\n"
     ]
    },
    {
     "name": "stderr",
     "output_type": "stream",
     "text": [
      "C:\\Users\\Andrew Vieira\\AppData\\Local\\Temp\\ipykernel_28688\\2950062750.py:2: UserWarning: Boolean Series key will be reindexed to match DataFrame index.\n",
      "  song_genre = songs2[songs.Genre == genre]\n",
      "C:\\Users\\Andrew Vieira\\AppData\\Local\\Temp\\ipykernel_28688\\2950062750.py:2: UserWarning: Boolean Series key will be reindexed to match DataFrame index.\n",
      "  song_genre = songs2[songs.Genre == genre]\n",
      "C:\\Users\\Andrew Vieira\\AppData\\Local\\Temp\\ipykernel_28688\\2950062750.py:2: UserWarning: Boolean Series key will be reindexed to match DataFrame index.\n",
      "  song_genre = songs2[songs.Genre == genre]\n",
      "C:\\Users\\Andrew Vieira\\AppData\\Local\\Temp\\ipykernel_28688\\2950062750.py:2: UserWarning: Boolean Series key will be reindexed to match DataFrame index.\n",
      "  song_genre = songs2[songs.Genre == genre]\n",
      "C:\\Users\\Andrew Vieira\\AppData\\Local\\Temp\\ipykernel_28688\\2950062750.py:2: UserWarning: Boolean Series key will be reindexed to match DataFrame index.\n",
      "  song_genre = songs2[songs.Genre == genre]\n",
      "C:\\Users\\Andrew Vieira\\AppData\\Local\\Temp\\ipykernel_28688\\2950062750.py:2: UserWarning: Boolean Series key will be reindexed to match DataFrame index.\n",
      "  song_genre = songs2[songs.Genre == genre]\n",
      "C:\\Users\\Andrew Vieira\\AppData\\Local\\Temp\\ipykernel_28688\\2950062750.py:2: UserWarning: Boolean Series key will be reindexed to match DataFrame index.\n",
      "  song_genre = songs2[songs.Genre == genre]\n",
      "C:\\Users\\Andrew Vieira\\AppData\\Local\\Temp\\ipykernel_28688\\2950062750.py:2: UserWarning: Boolean Series key will be reindexed to match DataFrame index.\n",
      "  song_genre = songs2[songs.Genre == genre]\n",
      "C:\\Users\\Andrew Vieira\\AppData\\Local\\Temp\\ipykernel_28688\\2950062750.py:2: UserWarning: Boolean Series key will be reindexed to match DataFrame index.\n",
      "  song_genre = songs2[songs.Genre == genre]\n"
     ]
    }
   ],
   "source": [
    "for genre in genres:\n",
    "    song_genre = songs2[songs.Genre == genre]\n",
    "    genre_rmse = get_rmse(song_genre, feature_columns_2, 'Stream', lin_reg)\n",
    "    print(f'{genre}:    \\t{song_genre.shape[0]} songs,\\tRMSE = {round(genre_rmse)},\\t{round(100 * (best_rmse - genre_rmse) / best_rmse, 2)}% better than best RSME')"
   ]
  },
  {
   "cell_type": "markdown",
   "id": "de6e1c66",
   "metadata": {},
   "source": [
    "### The models for some genres have lower RMSEs than the model for the entire set of songs, but other genres have higher RMSEs."
   ]
  },
  {
   "cell_type": "code",
   "execution_count": null,
   "id": "b66eeddb",
   "metadata": {},
   "outputs": [],
   "source": []
  }
 ],
 "metadata": {
  "kernelspec": {
   "display_name": "Python 3 (ipykernel)",
   "language": "python",
   "name": "python3"
  },
  "language_info": {
   "codemirror_mode": {
    "name": "ipython",
    "version": 3
   },
   "file_extension": ".py",
   "mimetype": "text/x-python",
   "name": "python",
   "nbconvert_exporter": "python",
   "pygments_lexer": "ipython3",
   "version": "3.10.9"
  }
 },
 "nbformat": 4,
 "nbformat_minor": 5
}
